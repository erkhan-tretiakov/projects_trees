{
 "cells": [
  {
   "cell_type": "code",
   "execution_count": 1,
   "id": "8b6dc704",
   "metadata": {},
   "outputs": [],
   "source": [
    "import numpy as np\n",
    "import pandas as pd\n",
    "import matplotlib.pyplot as plt\n",
    "import seaborn as sns\n",
    "import requests\n",
    "from urllib.parse import urlencode\n",
    "import scipy.stats as stats\n",
    "from scipy.stats import norm\n",
    "import pandahouse as ph\n",
    "\n",
    "from tqdm.auto import tqdm\n",
    "\n",
    "plt.style.use('ggplot')"
   ]
  },
  {
   "cell_type": "markdown",
   "id": "9b8155e3",
   "metadata": {},
   "source": [
    "<h1><center>E-Learning A/B test</center></h1>"
   ]
  },
  {
   "cell_type": "markdown",
   "id": "170bb690",
   "metadata": {},
   "source": [
    "### Task 1. A/B–тестирование\n",
    "    1.1 Условие\n",
    "\n",
    "Одной из основных задач аналитика в нашей команде является корректное проведение экспериментов. Для этого мы применяем метод A/B–тестирования. В ходе тестирования одной гипотезы целевой группе была предложена новая механика оплаты услуг на сайте, у контрольной группы оставалась базовая механика. В качестве задания Вам необходимо проанализировать итоги эксперимента и сделать вывод, стоит ли запускать новую механику оплаты на всех пользователей.\n",
    "\n",
    "    1.2 Входные данные\n",
    "\n",
    "В качестве входных данных Вы имеете 4 csv-файла:\n",
    "\n",
    "groups.csv - файл с информацией о принадлежности пользователя к контрольной или экспериментальной группе (А – контроль, B – целевая группа) \n",
    "\n",
    "groups_add.csv - дополнительный файл с пользователями, который вам прислали спустя 2 дня после передачи данных\n",
    "\n",
    "active_studs.csv - файл с информацией о пользователях, которые зашли на платформу в дни проведения эксперимента. \n",
    "\n",
    "checks.csv - файл с информацией об оплатах пользователей в дни проведения эксперимента. \n",
    "    \n",
    "    1.3 Вопросы\n",
    "\n",
    "Предлагаем Вам ответить на следующие вопросы:\n",
    "\n",
    "На какие метрики Вы смотрите в ходе анализа и почему?\n",
    "Имеются ли различия в показателях и с чем они могут быть связаны?\n",
    "Являются ли эти различия статистически значимыми?\n",
    "Стоит ли запускать новую механику на всех пользователей?\n",
    "Данный список вопросов не является обязательным, и Вы можете при своём ответе опираться на собственный план.\n",
    "\n",
    "    1.4 Требования к ответу\n",
    "\n",
    "При выполнении тестового задания необходимо использовать язык программирования Python. \n",
    "В файле обязательно должны быть комментарии к тем действиям, которые Вы выполняете с данными. \n",
    "Файл должен представлять собой законченный отчёт с выводами, сделанными в ходе исследования."
   ]
  },
  {
   "cell_type": "markdown",
   "id": "5b9edf6a",
   "metadata": {},
   "source": [
    "##### загрузим данные и предварительно исследуем их"
   ]
  },
  {
   "cell_type": "code",
   "execution_count": 2,
   "id": "50eccf73",
   "metadata": {},
   "outputs": [],
   "source": [
    "groups = 'https://disk.yandex.ru/d/lknJyFiqOt3IMA'\n",
    "groups_add = 'https://disk.yandex.ru/d/KQ4jmHlH1ATDgw'\n",
    "active_studs = 'https://disk.yandex.ru/d/_gI_QbjQJwah4Q'\n",
    "checks = 'https://disk.yandex.ru/d/45Ox3RS-gfWL7w'"
   ]
  },
  {
   "cell_type": "code",
   "execution_count": 3,
   "id": "5ac8daf1",
   "metadata": {},
   "outputs": [],
   "source": [
    "def get_data(file_url, sep=None): \n",
    "    if sep is None:\n",
    "        sep = ';'\n",
    "    base_url = 'https://cloud-api.yandex.net/v1/disk/public/resources/download?'\n",
    "    final_url = base_url + urlencode(dict(public_key=file_url))\n",
    "    r = requests.get(final_url)\n",
    "    download_url = r.json()['href']\n",
    "    df = pd.read_csv(download_url, sep=sep)\n",
    "    return df"
   ]
  },
  {
   "cell_type": "code",
   "execution_count": 4,
   "id": "d2b392ac",
   "metadata": {
    "scrolled": true
   },
   "outputs": [
    {
     "data": {
      "text/html": [
       "<div>\n",
       "<style scoped>\n",
       "    .dataframe tbody tr th:only-of-type {\n",
       "        vertical-align: middle;\n",
       "    }\n",
       "\n",
       "    .dataframe tbody tr th {\n",
       "        vertical-align: top;\n",
       "    }\n",
       "\n",
       "    .dataframe thead th {\n",
       "        text-align: right;\n",
       "    }\n",
       "</style>\n",
       "<table border=\"1\" class=\"dataframe\">\n",
       "  <thead>\n",
       "    <tr style=\"text-align: right;\">\n",
       "      <th></th>\n",
       "      <th>id</th>\n",
       "      <th>grp</th>\n",
       "    </tr>\n",
       "  </thead>\n",
       "  <tbody>\n",
       "    <tr>\n",
       "      <th>0</th>\n",
       "      <td>1489</td>\n",
       "      <td>B</td>\n",
       "    </tr>\n",
       "    <tr>\n",
       "      <th>1</th>\n",
       "      <td>1627</td>\n",
       "      <td>A</td>\n",
       "    </tr>\n",
       "    <tr>\n",
       "      <th>2</th>\n",
       "      <td>1768</td>\n",
       "      <td>B</td>\n",
       "    </tr>\n",
       "    <tr>\n",
       "      <th>3</th>\n",
       "      <td>1783</td>\n",
       "      <td>B</td>\n",
       "    </tr>\n",
       "    <tr>\n",
       "      <th>4</th>\n",
       "      <td>1794</td>\n",
       "      <td>A</td>\n",
       "    </tr>\n",
       "  </tbody>\n",
       "</table>\n",
       "</div>"
      ],
      "text/plain": [
       "     id grp\n",
       "0  1489   B\n",
       "1  1627   A\n",
       "2  1768   B\n",
       "3  1783   B\n",
       "4  1794   A"
      ]
     },
     "execution_count": 4,
     "metadata": {},
     "output_type": "execute_result"
    }
   ],
   "source": [
    "groups = get_data(groups)\n",
    "groups.head(5)"
   ]
  },
  {
   "cell_type": "code",
   "execution_count": 5,
   "id": "9dbd924c",
   "metadata": {},
   "outputs": [
    {
     "data": {
      "text/html": [
       "<div>\n",
       "<style scoped>\n",
       "    .dataframe tbody tr th:only-of-type {\n",
       "        vertical-align: middle;\n",
       "    }\n",
       "\n",
       "    .dataframe tbody tr th {\n",
       "        vertical-align: top;\n",
       "    }\n",
       "\n",
       "    .dataframe thead th {\n",
       "        text-align: right;\n",
       "    }\n",
       "</style>\n",
       "<table border=\"1\" class=\"dataframe\">\n",
       "  <thead>\n",
       "    <tr style=\"text-align: right;\">\n",
       "      <th></th>\n",
       "      <th>id</th>\n",
       "      <th>grp</th>\n",
       "    </tr>\n",
       "  </thead>\n",
       "  <tbody>\n",
       "    <tr>\n",
       "      <th>0</th>\n",
       "      <td>5694584</td>\n",
       "      <td>B</td>\n",
       "    </tr>\n",
       "    <tr>\n",
       "      <th>1</th>\n",
       "      <td>5694830</td>\n",
       "      <td>B</td>\n",
       "    </tr>\n",
       "    <tr>\n",
       "      <th>2</th>\n",
       "      <td>5695057</td>\n",
       "      <td>B</td>\n",
       "    </tr>\n",
       "    <tr>\n",
       "      <th>3</th>\n",
       "      <td>5698872</td>\n",
       "      <td>B</td>\n",
       "    </tr>\n",
       "    <tr>\n",
       "      <th>4</th>\n",
       "      <td>5699067</td>\n",
       "      <td>B</td>\n",
       "    </tr>\n",
       "  </tbody>\n",
       "</table>\n",
       "</div>"
      ],
      "text/plain": [
       "        id grp\n",
       "0  5694584   B\n",
       "1  5694830   B\n",
       "2  5695057   B\n",
       "3  5698872   B\n",
       "4  5699067   B"
      ]
     },
     "execution_count": 5,
     "metadata": {},
     "output_type": "execute_result"
    }
   ],
   "source": [
    "groups_add = get_data(groups_add, sep=',')\n",
    "groups_add.head(5)"
   ]
  },
  {
   "cell_type": "code",
   "execution_count": 6,
   "id": "ca63337e",
   "metadata": {},
   "outputs": [
    {
     "data": {
      "text/html": [
       "<div>\n",
       "<style scoped>\n",
       "    .dataframe tbody tr th:only-of-type {\n",
       "        vertical-align: middle;\n",
       "    }\n",
       "\n",
       "    .dataframe tbody tr th {\n",
       "        vertical-align: top;\n",
       "    }\n",
       "\n",
       "    .dataframe thead th {\n",
       "        text-align: right;\n",
       "    }\n",
       "</style>\n",
       "<table border=\"1\" class=\"dataframe\">\n",
       "  <thead>\n",
       "    <tr style=\"text-align: right;\">\n",
       "      <th></th>\n",
       "      <th>student_id</th>\n",
       "    </tr>\n",
       "  </thead>\n",
       "  <tbody>\n",
       "    <tr>\n",
       "      <th>0</th>\n",
       "      <td>581585</td>\n",
       "    </tr>\n",
       "    <tr>\n",
       "      <th>1</th>\n",
       "      <td>5723133</td>\n",
       "    </tr>\n",
       "    <tr>\n",
       "      <th>2</th>\n",
       "      <td>3276743</td>\n",
       "    </tr>\n",
       "    <tr>\n",
       "      <th>3</th>\n",
       "      <td>4238589</td>\n",
       "    </tr>\n",
       "    <tr>\n",
       "      <th>4</th>\n",
       "      <td>4475369</td>\n",
       "    </tr>\n",
       "  </tbody>\n",
       "</table>\n",
       "</div>"
      ],
      "text/plain": [
       "   student_id\n",
       "0      581585\n",
       "1     5723133\n",
       "2     3276743\n",
       "3     4238589\n",
       "4     4475369"
      ]
     },
     "execution_count": 6,
     "metadata": {},
     "output_type": "execute_result"
    }
   ],
   "source": [
    "active_studs = get_data(active_studs)\n",
    "active_studs.head(5)"
   ]
  },
  {
   "cell_type": "code",
   "execution_count": 7,
   "id": "477eed50",
   "metadata": {},
   "outputs": [
    {
     "data": {
      "text/html": [
       "<div>\n",
       "<style scoped>\n",
       "    .dataframe tbody tr th:only-of-type {\n",
       "        vertical-align: middle;\n",
       "    }\n",
       "\n",
       "    .dataframe tbody tr th {\n",
       "        vertical-align: top;\n",
       "    }\n",
       "\n",
       "    .dataframe thead th {\n",
       "        text-align: right;\n",
       "    }\n",
       "</style>\n",
       "<table border=\"1\" class=\"dataframe\">\n",
       "  <thead>\n",
       "    <tr style=\"text-align: right;\">\n",
       "      <th></th>\n",
       "      <th>student_id</th>\n",
       "      <th>rev</th>\n",
       "    </tr>\n",
       "  </thead>\n",
       "  <tbody>\n",
       "    <tr>\n",
       "      <th>0</th>\n",
       "      <td>1627</td>\n",
       "      <td>990.0</td>\n",
       "    </tr>\n",
       "    <tr>\n",
       "      <th>1</th>\n",
       "      <td>3185</td>\n",
       "      <td>690.0</td>\n",
       "    </tr>\n",
       "    <tr>\n",
       "      <th>2</th>\n",
       "      <td>25973</td>\n",
       "      <td>690.0</td>\n",
       "    </tr>\n",
       "    <tr>\n",
       "      <th>3</th>\n",
       "      <td>26280</td>\n",
       "      <td>690.0</td>\n",
       "    </tr>\n",
       "    <tr>\n",
       "      <th>4</th>\n",
       "      <td>100300</td>\n",
       "      <td>990.0</td>\n",
       "    </tr>\n",
       "  </tbody>\n",
       "</table>\n",
       "</div>"
      ],
      "text/plain": [
       "   student_id    rev\n",
       "0        1627  990.0\n",
       "1        3185  690.0\n",
       "2       25973  690.0\n",
       "3       26280  690.0\n",
       "4      100300  990.0"
      ]
     },
     "execution_count": 7,
     "metadata": {},
     "output_type": "execute_result"
    }
   ],
   "source": [
    "checks = get_data(checks)\n",
    "checks.head(5)"
   ]
  },
  {
   "cell_type": "code",
   "execution_count": 8,
   "id": "90e52cb1",
   "metadata": {},
   "outputs": [
    {
     "data": {
      "text/plain": [
       "(74484, 2)"
      ]
     },
     "execution_count": 8,
     "metadata": {},
     "output_type": "execute_result"
    }
   ],
   "source": [
    "groups.shape  # в общем файле 74484 строки"
   ]
  },
  {
   "cell_type": "code",
   "execution_count": 9,
   "id": "8b945e06",
   "metadata": {},
   "outputs": [
    {
     "data": {
      "text/plain": [
       "(92, 2)"
      ]
     },
     "execution_count": 9,
     "metadata": {},
     "output_type": "execute_result"
    }
   ],
   "source": [
    "groups_add.shape  # добавочные 92 строки"
   ]
  },
  {
   "cell_type": "code",
   "execution_count": 15,
   "id": "f28f3050",
   "metadata": {},
   "outputs": [
    {
     "data": {
      "text/plain": [
       "(8341, 1)"
      ]
     },
     "execution_count": 15,
     "metadata": {},
     "output_type": "execute_result"
    }
   ],
   "source": [
    "active_studs.shape  # заходили на сайт во время эксперимента"
   ]
  },
  {
   "cell_type": "code",
   "execution_count": 10,
   "id": "692cdcd8",
   "metadata": {},
   "outputs": [
    {
     "data": {
      "text/plain": [
       "(541, 2)"
      ]
     },
     "execution_count": 10,
     "metadata": {},
     "output_type": "execute_result"
    }
   ],
   "source": [
    "checks.shape  # купили во время эксперимента"
   ]
  },
  {
   "cell_type": "code",
   "execution_count": 11,
   "id": "266be161",
   "metadata": {},
   "outputs": [],
   "source": [
    "groups_merg = pd.concat([groups, groups_add], ignore_index=True)  # соединяем датафреймы"
   ]
  },
  {
   "cell_type": "code",
   "execution_count": 12,
   "id": "076bfef1",
   "metadata": {},
   "outputs": [
    {
     "data": {
      "text/plain": [
       "True"
      ]
     },
     "execution_count": 12,
     "metadata": {},
     "output_type": "execute_result"
    }
   ],
   "source": [
    "groups.shape[0] + groups_add.shape[0] == groups_merg.shape[0]  # проверяем все ли на месте"
   ]
  },
  {
   "cell_type": "code",
   "execution_count": 13,
   "id": "f3cecc5d",
   "metadata": {},
   "outputs": [
    {
     "data": {
      "text/plain": [
       "74576"
      ]
     },
     "execution_count": 13,
     "metadata": {},
     "output_type": "execute_result"
    }
   ],
   "source": [
    "groups.id.nunique() + groups_add.id.nunique() "
   ]
  },
  {
   "cell_type": "code",
   "execution_count": 14,
   "id": "e20932d0",
   "metadata": {},
   "outputs": [
    {
     "data": {
      "text/plain": [
       "74576"
      ]
     },
     "execution_count": 14,
     "metadata": {},
     "output_type": "execute_result"
    }
   ],
   "source": [
    "groups_merg.id.nunique()"
   ]
  },
  {
   "cell_type": "code",
   "execution_count": 15,
   "id": "865a9d6f",
   "metadata": {},
   "outputs": [],
   "source": [
    "active_df = pd.merge(active_studs, groups_merg, left_on='student_id', right_on='id', how='inner')  # мерджим\n",
    "active_df = active_df[['id', 'grp']]"
   ]
  },
  {
   "cell_type": "code",
   "execution_count": 17,
   "id": "e0ec1431",
   "metadata": {},
   "outputs": [
    {
     "data": {
      "text/html": [
       "<div>\n",
       "<style scoped>\n",
       "    .dataframe tbody tr th:only-of-type {\n",
       "        vertical-align: middle;\n",
       "    }\n",
       "\n",
       "    .dataframe tbody tr th {\n",
       "        vertical-align: top;\n",
       "    }\n",
       "\n",
       "    .dataframe thead th {\n",
       "        text-align: right;\n",
       "    }\n",
       "</style>\n",
       "<table border=\"1\" class=\"dataframe\">\n",
       "  <thead>\n",
       "    <tr style=\"text-align: right;\">\n",
       "      <th></th>\n",
       "      <th>id</th>\n",
       "      <th>grp</th>\n",
       "    </tr>\n",
       "  </thead>\n",
       "  <tbody>\n",
       "    <tr>\n",
       "      <th>0</th>\n",
       "      <td>581585</td>\n",
       "      <td>A</td>\n",
       "    </tr>\n",
       "    <tr>\n",
       "      <th>1</th>\n",
       "      <td>5723133</td>\n",
       "      <td>A</td>\n",
       "    </tr>\n",
       "    <tr>\n",
       "      <th>2</th>\n",
       "      <td>3276743</td>\n",
       "      <td>B</td>\n",
       "    </tr>\n",
       "    <tr>\n",
       "      <th>3</th>\n",
       "      <td>4238589</td>\n",
       "      <td>A</td>\n",
       "    </tr>\n",
       "    <tr>\n",
       "      <th>4</th>\n",
       "      <td>4475369</td>\n",
       "      <td>B</td>\n",
       "    </tr>\n",
       "  </tbody>\n",
       "</table>\n",
       "</div>"
      ],
      "text/plain": [
       "        id grp\n",
       "0   581585   A\n",
       "1  5723133   A\n",
       "2  3276743   B\n",
       "3  4238589   A\n",
       "4  4475369   B"
      ]
     },
     "execution_count": 17,
     "metadata": {},
     "output_type": "execute_result"
    }
   ],
   "source": [
    "active_df.head(5)"
   ]
  },
  {
   "cell_type": "code",
   "execution_count": 18,
   "id": "cfb2a333",
   "metadata": {},
   "outputs": [
    {
     "data": {
      "text/plain": [
       "8341"
      ]
     },
     "execution_count": 18,
     "metadata": {},
     "output_type": "execute_result"
    }
   ],
   "source": [
    "active_df.id.nunique()  # проверяем, что ничего не потеряли"
   ]
  },
  {
   "cell_type": "code",
   "execution_count": 19,
   "id": "c23cb3f9",
   "metadata": {},
   "outputs": [
    {
     "data": {
      "text/plain": [
       "8341"
      ]
     },
     "execution_count": 19,
     "metadata": {},
     "output_type": "execute_result"
    }
   ],
   "source": [
    "active_studs.student_id.nunique()"
   ]
  },
  {
   "cell_type": "code",
   "execution_count": 20,
   "id": "5fc0c86a",
   "metadata": {},
   "outputs": [
    {
     "data": {
      "text/plain": [
       "8341"
      ]
     },
     "execution_count": 20,
     "metadata": {},
     "output_type": "execute_result"
    }
   ],
   "source": [
    "active_df.query('grp == \"A\"').id.nunique() + active_df.query('grp == \"B\"').id.nunique()"
   ]
  },
  {
   "cell_type": "code",
   "execution_count": 21,
   "id": "16a93d0b",
   "metadata": {},
   "outputs": [
    {
     "data": {
      "text/plain": [
       "id     0\n",
       "grp    0\n",
       "dtype: int64"
      ]
     },
     "execution_count": 21,
     "metadata": {},
     "output_type": "execute_result"
    }
   ],
   "source": [
    "active_df.isnull().sum()  # проверка на NaN"
   ]
  },
  {
   "cell_type": "code",
   "execution_count": 22,
   "id": "42f9e1cf",
   "metadata": {},
   "outputs": [],
   "source": [
    "abtest = pd.merge(active_df, checks, left_on='id', right_on='student_id', how='left')\n",
    "abtest = abtest[['id', 'grp', 'rev']]\n",
    "abtest = abtest.fillna(0)"
   ]
  },
  {
   "cell_type": "code",
   "execution_count": 23,
   "id": "92d11a90",
   "metadata": {},
   "outputs": [
    {
     "data": {
      "text/html": [
       "<div>\n",
       "<style scoped>\n",
       "    .dataframe tbody tr th:only-of-type {\n",
       "        vertical-align: middle;\n",
       "    }\n",
       "\n",
       "    .dataframe tbody tr th {\n",
       "        vertical-align: top;\n",
       "    }\n",
       "\n",
       "    .dataframe thead th {\n",
       "        text-align: right;\n",
       "    }\n",
       "</style>\n",
       "<table border=\"1\" class=\"dataframe\">\n",
       "  <thead>\n",
       "    <tr style=\"text-align: right;\">\n",
       "      <th></th>\n",
       "      <th>id</th>\n",
       "      <th>grp</th>\n",
       "      <th>rev</th>\n",
       "    </tr>\n",
       "  </thead>\n",
       "  <tbody>\n",
       "    <tr>\n",
       "      <th>0</th>\n",
       "      <td>581585</td>\n",
       "      <td>A</td>\n",
       "      <td>0.0</td>\n",
       "    </tr>\n",
       "    <tr>\n",
       "      <th>1</th>\n",
       "      <td>5723133</td>\n",
       "      <td>A</td>\n",
       "      <td>0.0</td>\n",
       "    </tr>\n",
       "    <tr>\n",
       "      <th>2</th>\n",
       "      <td>3276743</td>\n",
       "      <td>B</td>\n",
       "      <td>0.0</td>\n",
       "    </tr>\n",
       "    <tr>\n",
       "      <th>3</th>\n",
       "      <td>4238589</td>\n",
       "      <td>A</td>\n",
       "      <td>0.0</td>\n",
       "    </tr>\n",
       "    <tr>\n",
       "      <th>4</th>\n",
       "      <td>4475369</td>\n",
       "      <td>B</td>\n",
       "      <td>0.0</td>\n",
       "    </tr>\n",
       "  </tbody>\n",
       "</table>\n",
       "</div>"
      ],
      "text/plain": [
       "        id grp  rev\n",
       "0   581585   A  0.0\n",
       "1  5723133   A  0.0\n",
       "2  3276743   B  0.0\n",
       "3  4238589   A  0.0\n",
       "4  4475369   B  0.0"
      ]
     },
     "execution_count": 23,
     "metadata": {},
     "output_type": "execute_result"
    }
   ],
   "source": [
    "abtest.head(5)"
   ]
  },
  {
   "cell_type": "code",
   "execution_count": 24,
   "id": "7221ec09",
   "metadata": {},
   "outputs": [
    {
     "data": {
      "text/plain": [
       "(8341, 3)"
      ]
     },
     "execution_count": 24,
     "metadata": {},
     "output_type": "execute_result"
    }
   ],
   "source": [
    "abtest.shape"
   ]
  },
  {
   "cell_type": "code",
   "execution_count": 25,
   "id": "2551d107",
   "metadata": {},
   "outputs": [
    {
     "data": {
      "text/plain": [
       "392"
      ]
     },
     "execution_count": 25,
     "metadata": {},
     "output_type": "execute_result"
    }
   ],
   "source": [
    "abtest.query('rev > 0').id.nunique()  # в эксперимент попало всего 392 заплативших пользователя"
   ]
  },
  {
   "cell_type": "code",
   "execution_count": 26,
   "id": "5a088143",
   "metadata": {},
   "outputs": [
    {
     "data": {
      "text/plain": [
       "541"
      ]
     },
     "execution_count": 26,
     "metadata": {},
     "output_type": "execute_result"
    }
   ],
   "source": [
    "checks.student_id.nunique()  # купили 541"
   ]
  },
  {
   "cell_type": "markdown",
   "id": "6dace71d",
   "metadata": {},
   "source": [
    "##### Обнаружили, что 149 чеков не попали в выборку. Скорее всего это могут быть автоплатежи по старым подпискам, их не учитываем. Далее подробнее рассмотрим данные в выборках."
   ]
  },
  {
   "cell_type": "code",
   "execution_count": 32,
   "id": "9ae1ded4",
   "metadata": {},
   "outputs": [
    {
     "name": "stderr",
     "output_type": "stream",
     "text": [
      "E:\\Users\\snkr1\\anaconda3\\lib\\site-packages\\seaborn\\distributions.py:2619: FutureWarning: `distplot` is a deprecated function and will be removed in a future version. Please adapt your code to use either `displot` (a figure-level function with similar flexibility) or `histplot` (an axes-level function for histograms).\n",
      "  warnings.warn(msg, FutureWarning)\n"
     ]
    },
    {
     "data": {
      "text/plain": [
       "<AxesSubplot:xlabel='rev', ylabel='Density'>"
      ]
     },
     "execution_count": 32,
     "metadata": {},
     "output_type": "execute_result"
    },
    {
     "data": {
      "image/png": "[encoded data removed]",
      "text/plain": [
       "<Figure size 640x480 with 1 Axes>"
      ]
     },
     "metadata": {},
     "output_type": "display_data"
    }
   ],
   "source": [
    "sns.distplot(abtest.query('grp == \"A\"').rev, kde=True)  # смотрим данные в выборке А, заметных выбросов нет."
   ]
  },
  {
   "cell_type": "code",
   "execution_count": 57,
   "id": "2a24c58d",
   "metadata": {},
   "outputs": [
    {
     "name": "stderr",
     "output_type": "stream",
     "text": [
      "E:\\Users\\snkr1\\anaconda3\\lib\\site-packages\\seaborn\\distributions.py:2619: FutureWarning: `distplot` is a deprecated function and will be removed in a future version. Please adapt your code to use either `displot` (a figure-level function with similar flexibility) or `histplot` (an axes-level function for histograms).\n",
      "  warnings.warn(msg, FutureWarning)\n"
     ]
    },
    {
     "data": {
      "text/plain": [
       "<AxesSubplot:xlabel='rev', ylabel='Density'>"
      ]
     },
     "execution_count": 57,
     "metadata": {},
     "output_type": "execute_result"
    },
    {
     "data": {
      "image/png": "[encoded data removed]",
      "text/plain": [
       "<Figure size 640x480 with 1 Axes>"
      ]
     },
     "metadata": {},
     "output_type": "display_data"
    }
   ],
   "source": [
    "sns.distplot(abtest.query('grp == \"A\" and rev > 0').rev, kde=True)  # наибольшее число покупок примерно \n",
    "# в районе 100 - 1200 у.е."
   ]
  },
  {
   "cell_type": "markdown",
   "id": "b52cba42",
   "metadata": {},
   "source": [
    "Проверим на нормальность распределений в группе A, это поможет нам обосновать выбор статистического метода"
   ]
  },
  {
   "cell_type": "code",
   "execution_count": 27,
   "id": "565e5eaf",
   "metadata": {},
   "outputs": [
    {
     "data": {
      "text/plain": [
       "ShapiroResult(statistic=0.1541670560836792, pvalue=0.0)"
      ]
     },
     "execution_count": 27,
     "metadata": {},
     "output_type": "execute_result"
    }
   ],
   "source": [
    "stats.shapiro(abtest.query('grp == \"A\"').rev)  # распределение отколняется от нормального"
   ]
  },
  {
   "cell_type": "code",
   "execution_count": 28,
   "id": "8bd69984",
   "metadata": {},
   "outputs": [
    {
     "data": {
      "text/plain": [
       "ShapiroResult(statistic=0.7353236079216003, pvalue=1.4986822893803264e-10)"
      ]
     },
     "execution_count": 28,
     "metadata": {},
     "output_type": "execute_result"
    }
   ],
   "source": [
    "stats.shapiro(abtest.query('grp == \"A\" and rev > 0').rev)  # распределение отколняется от нормального"
   ]
  },
  {
   "cell_type": "markdown",
   "id": "d827ee42",
   "metadata": {},
   "source": [
    "Далее рассмотрим группу \"B\""
   ]
  },
  {
   "cell_type": "code",
   "execution_count": 33,
   "id": "9ada778b",
   "metadata": {
    "scrolled": false
   },
   "outputs": [
    {
     "name": "stderr",
     "output_type": "stream",
     "text": [
      "E:\\Users\\snkr1\\anaconda3\\lib\\site-packages\\seaborn\\distributions.py:2619: FutureWarning: `distplot` is a deprecated function and will be removed in a future version. Please adapt your code to use either `displot` (a figure-level function with similar flexibility) or `histplot` (an axes-level function for histograms).\n",
      "  warnings.warn(msg, FutureWarning)\n"
     ]
    },
    {
     "data": {
      "text/plain": [
       "<AxesSubplot:xlabel='rev', ylabel='Density'>"
      ]
     },
     "execution_count": 33,
     "metadata": {},
     "output_type": "execute_result"
    },
    {
     "data": {
      "image/png": "[encoded data removed]",
      "text/plain": [
       "<Figure size 640x480 with 1 Axes>"
      ]
     },
     "metadata": {},
     "output_type": "display_data"
    }
   ],
   "source": [
    "sns.distplot(abtest.query('grp == \"B\"').rev, kde=True)  # можно заметить всплеск в районе двух тысяч"
   ]
  },
  {
   "cell_type": "code",
   "execution_count": 58,
   "id": "3111d95c",
   "metadata": {},
   "outputs": [
    {
     "name": "stderr",
     "output_type": "stream",
     "text": [
      "E:\\Users\\snkr1\\anaconda3\\lib\\site-packages\\seaborn\\distributions.py:2619: FutureWarning: `distplot` is a deprecated function and will be removed in a future version. Please adapt your code to use either `displot` (a figure-level function with similar flexibility) or `histplot` (an axes-level function for histograms).\n",
      "  warnings.warn(msg, FutureWarning)\n"
     ]
    },
    {
     "data": {
      "text/plain": [
       "<AxesSubplot:xlabel='rev', ylabel='Density'>"
      ]
     },
     "execution_count": 58,
     "metadata": {},
     "output_type": "execute_result"
    },
    {
     "data": {
      "image/png": "[encoded data removed]",
      "text/plain": [
       "<Figure size 640x480 with 1 Axes>"
      ]
     },
     "metadata": {},
     "output_type": "display_data"
    }
   ],
   "source": [
    "sns.distplot(abtest.query('grp == \"B\" and rev > 0').rev, kde=True)  # заметный \"всплеск\" покупок ценой 2000 в группе 'B'"
   ]
  },
  {
   "cell_type": "markdown",
   "id": "cdc994d0",
   "metadata": {},
   "source": [
    "Проверим на нормальность распределений в группе B"
   ]
  },
  {
   "cell_type": "code",
   "execution_count": 29,
   "id": "2a5dbcf1",
   "metadata": {},
   "outputs": [
    {
     "name": "stderr",
     "output_type": "stream",
     "text": [
      "/opt/tljh/user/lib/python3.7/site-packages/scipy/stats/morestats.py:1760: UserWarning: p-value may not be accurate for N > 5000.\n",
      "  warnings.warn(\"p-value may not be accurate for N > 5000.\")\n"
     ]
    },
    {
     "data": {
      "text/plain": [
       "ShapiroResult(statistic=0.18124502897262573, pvalue=0.0)"
      ]
     },
     "execution_count": 29,
     "metadata": {},
     "output_type": "execute_result"
    }
   ],
   "source": [
    "stats.shapiro(abtest.query('grp == \"B\"').rev)  # распределение отколняется от нормального"
   ]
  },
  {
   "cell_type": "code",
   "execution_count": 30,
   "id": "598f57bf",
   "metadata": {},
   "outputs": [
    {
     "data": {
      "text/plain": [
       "ShapiroResult(statistic=0.8547235727310181, pvalue=1.5437024585965894e-16)"
      ]
     },
     "execution_count": 30,
     "metadata": {},
     "output_type": "execute_result"
    }
   ],
   "source": [
    "stats.shapiro(abtest.query('grp == \"B\" and rev > 0').rev)  # распределение отколняется от нормального"
   ]
  },
  {
   "cell_type": "markdown",
   "id": "2e05b8fa",
   "metadata": {},
   "source": [
    "##### распределения во всех выборках отклоняются от нормального, это можно было наблюдать и на представленных графиках. Обнаружены всплески в районе ценовой категории 2000, попробуем еще более подробнее посмотреть на эти данные."
   ]
  },
  {
   "cell_type": "code",
   "execution_count": 31,
   "id": "abdc95f4",
   "metadata": {},
   "outputs": [
    {
     "data": {
      "text/html": [
       "<div>\n",
       "<style scoped>\n",
       "    .dataframe tbody tr th:only-of-type {\n",
       "        vertical-align: middle;\n",
       "    }\n",
       "\n",
       "    .dataframe tbody tr th {\n",
       "        vertical-align: top;\n",
       "    }\n",
       "\n",
       "    .dataframe thead th {\n",
       "        text-align: right;\n",
       "    }\n",
       "</style>\n",
       "<table border=\"1\" class=\"dataframe\">\n",
       "  <thead>\n",
       "    <tr style=\"text-align: right;\">\n",
       "      <th></th>\n",
       "      <th>rev</th>\n",
       "      <th>id</th>\n",
       "    </tr>\n",
       "  </thead>\n",
       "  <tbody>\n",
       "    <tr>\n",
       "      <th>0</th>\n",
       "      <td>199.0000</td>\n",
       "      <td>27</td>\n",
       "    </tr>\n",
       "    <tr>\n",
       "      <th>1</th>\n",
       "      <td>290.0000</td>\n",
       "      <td>45</td>\n",
       "    </tr>\n",
       "    <tr>\n",
       "      <th>2</th>\n",
       "      <td>398.0000</td>\n",
       "      <td>6</td>\n",
       "    </tr>\n",
       "    <tr>\n",
       "      <th>3</th>\n",
       "      <td>489.0000</td>\n",
       "      <td>1</td>\n",
       "    </tr>\n",
       "    <tr>\n",
       "      <th>4</th>\n",
       "      <td>580.0000</td>\n",
       "      <td>5</td>\n",
       "    </tr>\n",
       "    <tr>\n",
       "      <th>5</th>\n",
       "      <td>590.0000</td>\n",
       "      <td>6</td>\n",
       "    </tr>\n",
       "    <tr>\n",
       "      <th>6</th>\n",
       "      <td>597.0000</td>\n",
       "      <td>1</td>\n",
       "    </tr>\n",
       "    <tr>\n",
       "      <th>7</th>\n",
       "      <td>690.0000</td>\n",
       "      <td>13</td>\n",
       "    </tr>\n",
       "    <tr>\n",
       "      <th>8</th>\n",
       "      <td>796.0000</td>\n",
       "      <td>1</td>\n",
       "    </tr>\n",
       "    <tr>\n",
       "      <th>9</th>\n",
       "      <td>840.0000</td>\n",
       "      <td>21</td>\n",
       "    </tr>\n",
       "    <tr>\n",
       "      <th>10</th>\n",
       "      <td>870.0000</td>\n",
       "      <td>5</td>\n",
       "    </tr>\n",
       "    <tr>\n",
       "      <th>11</th>\n",
       "      <td>880.0000</td>\n",
       "      <td>1</td>\n",
       "    </tr>\n",
       "    <tr>\n",
       "      <th>12</th>\n",
       "      <td>990.0000</td>\n",
       "      <td>17</td>\n",
       "    </tr>\n",
       "    <tr>\n",
       "      <th>13</th>\n",
       "      <td>1050.0000</td>\n",
       "      <td>1</td>\n",
       "    </tr>\n",
       "    <tr>\n",
       "      <th>14</th>\n",
       "      <td>1140.0000</td>\n",
       "      <td>9</td>\n",
       "    </tr>\n",
       "    <tr>\n",
       "      <th>15</th>\n",
       "      <td>1160.0000</td>\n",
       "      <td>1</td>\n",
       "    </tr>\n",
       "    <tr>\n",
       "      <th>16</th>\n",
       "      <td>1339.0000</td>\n",
       "      <td>1</td>\n",
       "    </tr>\n",
       "    <tr>\n",
       "      <th>17</th>\n",
       "      <td>1388.0000</td>\n",
       "      <td>1</td>\n",
       "    </tr>\n",
       "    <tr>\n",
       "      <th>18</th>\n",
       "      <td>1530.0000</td>\n",
       "      <td>5</td>\n",
       "    </tr>\n",
       "    <tr>\n",
       "      <th>19</th>\n",
       "      <td>1729.0000</td>\n",
       "      <td>1</td>\n",
       "    </tr>\n",
       "    <tr>\n",
       "      <th>20</th>\n",
       "      <td>1900.0000</td>\n",
       "      <td>93</td>\n",
       "    </tr>\n",
       "    <tr>\n",
       "      <th>21</th>\n",
       "      <td>1900.0001</td>\n",
       "      <td>35</td>\n",
       "    </tr>\n",
       "    <tr>\n",
       "      <th>22</th>\n",
       "      <td>1968.0000</td>\n",
       "      <td>1</td>\n",
       "    </tr>\n",
       "    <tr>\n",
       "      <th>23</th>\n",
       "      <td>1980.0000</td>\n",
       "      <td>2</td>\n",
       "    </tr>\n",
       "    <tr>\n",
       "      <th>24</th>\n",
       "      <td>2099.0000</td>\n",
       "      <td>3</td>\n",
       "    </tr>\n",
       "    <tr>\n",
       "      <th>25</th>\n",
       "      <td>2190.0000</td>\n",
       "      <td>1</td>\n",
       "    </tr>\n",
       "    <tr>\n",
       "      <th>26</th>\n",
       "      <td>2220.0000</td>\n",
       "      <td>1</td>\n",
       "    </tr>\n",
       "    <tr>\n",
       "      <th>27</th>\n",
       "      <td>2890.0000</td>\n",
       "      <td>3</td>\n",
       "    </tr>\n",
       "    <tr>\n",
       "      <th>28</th>\n",
       "      <td>2910.0000</td>\n",
       "      <td>2</td>\n",
       "    </tr>\n",
       "    <tr>\n",
       "      <th>29</th>\n",
       "      <td>3040.0000</td>\n",
       "      <td>1</td>\n",
       "    </tr>\n",
       "    <tr>\n",
       "      <th>30</th>\n",
       "      <td>3260.0000</td>\n",
       "      <td>1</td>\n",
       "    </tr>\n",
       "    <tr>\n",
       "      <th>31</th>\n",
       "      <td>3660.0000</td>\n",
       "      <td>2</td>\n",
       "    </tr>\n",
       "    <tr>\n",
       "      <th>32</th>\n",
       "      <td>4650.0000</td>\n",
       "      <td>1</td>\n",
       "    </tr>\n",
       "  </tbody>\n",
       "</table>\n",
       "</div>"
      ],
      "text/plain": [
       "          rev  id\n",
       "0    199.0000  27\n",
       "1    290.0000  45\n",
       "2    398.0000   6\n",
       "3    489.0000   1\n",
       "4    580.0000   5\n",
       "5    590.0000   6\n",
       "6    597.0000   1\n",
       "7    690.0000  13\n",
       "8    796.0000   1\n",
       "9    840.0000  21\n",
       "10   870.0000   5\n",
       "11   880.0000   1\n",
       "12   990.0000  17\n",
       "13  1050.0000   1\n",
       "14  1140.0000   9\n",
       "15  1160.0000   1\n",
       "16  1339.0000   1\n",
       "17  1388.0000   1\n",
       "18  1530.0000   5\n",
       "19  1729.0000   1\n",
       "20  1900.0000  93\n",
       "21  1900.0001  35\n",
       "22  1968.0000   1\n",
       "23  1980.0000   2\n",
       "24  2099.0000   3\n",
       "25  2190.0000   1\n",
       "26  2220.0000   1\n",
       "27  2890.0000   3\n",
       "28  2910.0000   2\n",
       "29  3040.0000   1\n",
       "30  3260.0000   1\n",
       "31  3660.0000   2\n",
       "32  4650.0000   1"
      ]
     },
     "execution_count": 31,
     "metadata": {},
     "output_type": "execute_result"
    }
   ],
   "source": [
    "abtest.query('grp == \"B\" and rev > 0').groupby('rev', as_index=False).agg({'id': 'count'})\n",
    "# обнаружили значение 1900.0001"
   ]
  },
  {
   "cell_type": "markdown",
   "id": "e9f23ba6",
   "metadata": {},
   "source": [
    "##### сразу же обратим внимание на значение 1900.0001, которое встречается 35 раз, когда как остальные значения целые (без .0001). Значение 1900.0001 может быть результатом ошибок округления или представления чисел с плавающей запятой в Python. Округлим эти значения в одну ценовую категорию."
   ]
  },
  {
   "cell_type": "code",
   "execution_count": 33,
   "id": "1f936e3b",
   "metadata": {},
   "outputs": [],
   "source": [
    "abtest1 = abtest.copy()"
   ]
  },
  {
   "cell_type": "code",
   "execution_count": 34,
   "id": "ec6e6b3e",
   "metadata": {},
   "outputs": [],
   "source": [
    "abtest1['rev'] = abtest1['rev'].round()"
   ]
  },
  {
   "cell_type": "code",
   "execution_count": 35,
   "id": "89d0376d",
   "metadata": {},
   "outputs": [
    {
     "data": {
      "text/html": [
       "<div>\n",
       "<style scoped>\n",
       "    .dataframe tbody tr th:only-of-type {\n",
       "        vertical-align: middle;\n",
       "    }\n",
       "\n",
       "    .dataframe tbody tr th {\n",
       "        vertical-align: top;\n",
       "    }\n",
       "\n",
       "    .dataframe thead th {\n",
       "        text-align: right;\n",
       "    }\n",
       "</style>\n",
       "<table border=\"1\" class=\"dataframe\">\n",
       "  <thead>\n",
       "    <tr style=\"text-align: right;\">\n",
       "      <th></th>\n",
       "      <th>rev</th>\n",
       "      <th>id</th>\n",
       "    </tr>\n",
       "  </thead>\n",
       "  <tbody>\n",
       "    <tr>\n",
       "      <th>0</th>\n",
       "      <td>199.0</td>\n",
       "      <td>27</td>\n",
       "    </tr>\n",
       "    <tr>\n",
       "      <th>1</th>\n",
       "      <td>290.0</td>\n",
       "      <td>45</td>\n",
       "    </tr>\n",
       "    <tr>\n",
       "      <th>2</th>\n",
       "      <td>398.0</td>\n",
       "      <td>6</td>\n",
       "    </tr>\n",
       "    <tr>\n",
       "      <th>3</th>\n",
       "      <td>489.0</td>\n",
       "      <td>1</td>\n",
       "    </tr>\n",
       "    <tr>\n",
       "      <th>4</th>\n",
       "      <td>580.0</td>\n",
       "      <td>5</td>\n",
       "    </tr>\n",
       "    <tr>\n",
       "      <th>5</th>\n",
       "      <td>590.0</td>\n",
       "      <td>6</td>\n",
       "    </tr>\n",
       "    <tr>\n",
       "      <th>6</th>\n",
       "      <td>597.0</td>\n",
       "      <td>1</td>\n",
       "    </tr>\n",
       "    <tr>\n",
       "      <th>7</th>\n",
       "      <td>690.0</td>\n",
       "      <td>13</td>\n",
       "    </tr>\n",
       "    <tr>\n",
       "      <th>8</th>\n",
       "      <td>796.0</td>\n",
       "      <td>1</td>\n",
       "    </tr>\n",
       "    <tr>\n",
       "      <th>9</th>\n",
       "      <td>840.0</td>\n",
       "      <td>21</td>\n",
       "    </tr>\n",
       "    <tr>\n",
       "      <th>10</th>\n",
       "      <td>870.0</td>\n",
       "      <td>5</td>\n",
       "    </tr>\n",
       "    <tr>\n",
       "      <th>11</th>\n",
       "      <td>880.0</td>\n",
       "      <td>1</td>\n",
       "    </tr>\n",
       "    <tr>\n",
       "      <th>12</th>\n",
       "      <td>990.0</td>\n",
       "      <td>17</td>\n",
       "    </tr>\n",
       "    <tr>\n",
       "      <th>13</th>\n",
       "      <td>1050.0</td>\n",
       "      <td>1</td>\n",
       "    </tr>\n",
       "    <tr>\n",
       "      <th>14</th>\n",
       "      <td>1140.0</td>\n",
       "      <td>9</td>\n",
       "    </tr>\n",
       "    <tr>\n",
       "      <th>15</th>\n",
       "      <td>1160.0</td>\n",
       "      <td>1</td>\n",
       "    </tr>\n",
       "    <tr>\n",
       "      <th>16</th>\n",
       "      <td>1339.0</td>\n",
       "      <td>1</td>\n",
       "    </tr>\n",
       "    <tr>\n",
       "      <th>17</th>\n",
       "      <td>1388.0</td>\n",
       "      <td>1</td>\n",
       "    </tr>\n",
       "    <tr>\n",
       "      <th>18</th>\n",
       "      <td>1530.0</td>\n",
       "      <td>5</td>\n",
       "    </tr>\n",
       "    <tr>\n",
       "      <th>19</th>\n",
       "      <td>1729.0</td>\n",
       "      <td>1</td>\n",
       "    </tr>\n",
       "    <tr>\n",
       "      <th>20</th>\n",
       "      <td>1900.0</td>\n",
       "      <td>128</td>\n",
       "    </tr>\n",
       "    <tr>\n",
       "      <th>21</th>\n",
       "      <td>1968.0</td>\n",
       "      <td>1</td>\n",
       "    </tr>\n",
       "    <tr>\n",
       "      <th>22</th>\n",
       "      <td>1980.0</td>\n",
       "      <td>2</td>\n",
       "    </tr>\n",
       "    <tr>\n",
       "      <th>23</th>\n",
       "      <td>2099.0</td>\n",
       "      <td>3</td>\n",
       "    </tr>\n",
       "    <tr>\n",
       "      <th>24</th>\n",
       "      <td>2190.0</td>\n",
       "      <td>1</td>\n",
       "    </tr>\n",
       "    <tr>\n",
       "      <th>25</th>\n",
       "      <td>2220.0</td>\n",
       "      <td>1</td>\n",
       "    </tr>\n",
       "    <tr>\n",
       "      <th>26</th>\n",
       "      <td>2890.0</td>\n",
       "      <td>3</td>\n",
       "    </tr>\n",
       "    <tr>\n",
       "      <th>27</th>\n",
       "      <td>2910.0</td>\n",
       "      <td>2</td>\n",
       "    </tr>\n",
       "    <tr>\n",
       "      <th>28</th>\n",
       "      <td>3040.0</td>\n",
       "      <td>1</td>\n",
       "    </tr>\n",
       "    <tr>\n",
       "      <th>29</th>\n",
       "      <td>3260.0</td>\n",
       "      <td>1</td>\n",
       "    </tr>\n",
       "    <tr>\n",
       "      <th>30</th>\n",
       "      <td>3660.0</td>\n",
       "      <td>2</td>\n",
       "    </tr>\n",
       "    <tr>\n",
       "      <th>31</th>\n",
       "      <td>4650.0</td>\n",
       "      <td>1</td>\n",
       "    </tr>\n",
       "  </tbody>\n",
       "</table>\n",
       "</div>"
      ],
      "text/plain": [
       "       rev   id\n",
       "0    199.0   27\n",
       "1    290.0   45\n",
       "2    398.0    6\n",
       "3    489.0    1\n",
       "4    580.0    5\n",
       "5    590.0    6\n",
       "6    597.0    1\n",
       "7    690.0   13\n",
       "8    796.0    1\n",
       "9    840.0   21\n",
       "10   870.0    5\n",
       "11   880.0    1\n",
       "12   990.0   17\n",
       "13  1050.0    1\n",
       "14  1140.0    9\n",
       "15  1160.0    1\n",
       "16  1339.0    1\n",
       "17  1388.0    1\n",
       "18  1530.0    5\n",
       "19  1729.0    1\n",
       "20  1900.0  128\n",
       "21  1968.0    1\n",
       "22  1980.0    2\n",
       "23  2099.0    3\n",
       "24  2190.0    1\n",
       "25  2220.0    1\n",
       "26  2890.0    3\n",
       "27  2910.0    2\n",
       "28  3040.0    1\n",
       "29  3260.0    1\n",
       "30  3660.0    2\n",
       "31  4650.0    1"
      ]
     },
     "execution_count": 35,
     "metadata": {},
     "output_type": "execute_result"
    }
   ],
   "source": [
    "abtest1.query('grp == \"B\" and rev > 0').groupby('rev', as_index=False).agg({'id': 'count'})"
   ]
  },
  {
   "cell_type": "code",
   "execution_count": 45,
   "id": "e138a1fd",
   "metadata": {},
   "outputs": [
    {
     "name": "stderr",
     "output_type": "stream",
     "text": [
      "/opt/tljh/user/lib/python3.7/site-packages/seaborn/distributions.py:2557: FutureWarning: `distplot` is a deprecated function and will be removed in a future version. Please adapt your code to use either `displot` (a figure-level function with similar flexibility) or `histplot` (an axes-level function for histograms).\n",
      "  warnings.warn(msg, FutureWarning)\n"
     ]
    },
    {
     "data": {
      "text/plain": [
       "<matplotlib.axes._subplots.AxesSubplot at 0x7f2ae33cc860>"
      ]
     },
     "execution_count": 45,
     "metadata": {},
     "output_type": "execute_result"
    },
    {
     "data": {
      "image/png": "[encoded data removed]",
      "text/plain": [
       "<Figure size 432x288 with 1 Axes>"
      ]
     },
     "metadata": {},
     "output_type": "display_data"
    }
   ],
   "source": [
    "sns.distplot(abtest1.query('grp == \"B\" and rev > 0').rev, kde=True)  # после округления значений имеем 128 \n",
    "# наблюдений в ценовой категории 1900"
   ]
  },
  {
   "cell_type": "markdown",
   "id": "47e27b7e",
   "metadata": {},
   "source": [
    "   ##### Итак механика оплаты на сайтах относится к способу, с помощью которого пользователи могут совершать платежи за товары или услуги, предлагаемые на сайте. Она включает в себя различные аспекты, такие как доступные способы оплаты (например, кредитные карты, электронные платежи, банковские переводы), процесс оплаты (одношаговый или многошаговый), а также условия и правила оплаты (например, возврат средств, сроки оплаты). Может ли это влиять на всплеск одной или нескольких конкретных ценовых категорий? Вцелом может, например если например предложены условия кешбека или рассрочки, что стало мотивацией для покупки именно популярных курсов. В этом случае это может иметь эффект для увеличенния покупок в конкретных ценовых категориях. "
   ]
  },
  {
   "cell_type": "markdown",
   "id": "2de87a42",
   "metadata": {},
   "source": [
    "##### На какие метрики следует обратить внимание? Нам доступны метрики Conversion Rate, Average Revenue per User(ARPU) и Average Revenue per Paying User(ARPPU). Механика оплаты может оказывать значительное влияние, в-первую очередь, на *конверсию в покупку*(CR). Например, если процесс оплаты слишком сложен или требует слишком много информации от пользователя, это может отпугнуть покупателей и снизить вероятность успешного завершения покупки. Во-вторых, в нашем случае, где механика может быть завязана и на \"маркетинговый\" эффект, также имеет смысл посмотреть на более \"глобальную\" метрику, а именно, на APRU. ARPU может быть полезной метрикой при анализе улучшения механики оплаты, особенно если цель заключается в увеличении выручки от пользователей. При улучшении механики оплаты можно ожидать, что ARPU возрастет, если пользователи начнут чаще и/или больше тратить на сайте или в приложении. Нам интересно изучить общий эффект изменений механики оплаты на всех пользователей, включая их конверсию в платящих пользователей и ARPU. Исходя из вышенаписанного выбираем нашими основными метриками - CR и ARPU."
   ]
  },
  {
   "cell_type": "markdown",
   "id": "39400a9b",
   "metadata": {},
   "source": [
    "##### Выбор CR и ARPU в качестве главных метрик оценки основан на их важности для понимания эффективности изменений в механике или стратегии. CR отражает процент успешных событий (например, покупок или регистраций) от общего числа событий, что позволяет оценить эффективность механики оплаты или пользовательского вовлечения. ARPU, с другой стороны, измеряет средний доход, полученный от каждого пользователя, что является важным показателем для понимания финансовых результатов. Анализ CR и ARPU поможет определить, есть ли статистически значимые изменения в конверсии и доходности между группами, и, следовательно, позволит оценить эффективность внесенных изменений в механику оплаты или стратегию работы с пользователями. Исходя из этого гипотеза может быть сформулирована следующим образом: \"Если мы поменяем механику оплаты услуг на сайте, то мы получим статзначимый прирост CR и ARPU\""
   ]
  },
  {
   "cell_type": "code",
   "execution_count": 46,
   "id": "a4b2844f",
   "metadata": {},
   "outputs": [
    {
     "data": {
      "text/html": [
       "<div>\n",
       "<style scoped>\n",
       "    .dataframe tbody tr th:only-of-type {\n",
       "        vertical-align: middle;\n",
       "    }\n",
       "\n",
       "    .dataframe tbody tr th {\n",
       "        vertical-align: top;\n",
       "    }\n",
       "\n",
       "    .dataframe thead th {\n",
       "        text-align: right;\n",
       "    }\n",
       "</style>\n",
       "<table border=\"1\" class=\"dataframe\">\n",
       "  <thead>\n",
       "    <tr style=\"text-align: right;\">\n",
       "      <th></th>\n",
       "      <th>grp</th>\n",
       "      <th>id</th>\n",
       "      <th>rev</th>\n",
       "    </tr>\n",
       "  </thead>\n",
       "  <tbody>\n",
       "    <tr>\n",
       "      <th>0</th>\n",
       "      <td>A</td>\n",
       "      <td>1538</td>\n",
       "      <td>47.347204</td>\n",
       "    </tr>\n",
       "    <tr>\n",
       "      <th>1</th>\n",
       "      <td>B</td>\n",
       "      <td>6803</td>\n",
       "      <td>58.058798</td>\n",
       "    </tr>\n",
       "  </tbody>\n",
       "</table>\n",
       "</div>"
      ],
      "text/plain": [
       "  grp    id        rev\n",
       "0   A  1538  47.347204\n",
       "1   B  6803  58.058798"
      ]
     },
     "execution_count": 46,
     "metadata": {},
     "output_type": "execute_result"
    }
   ],
   "source": [
    "ARPU = abtest1.groupby('grp', as_index=False).agg({'id': 'count', 'rev': 'mean'})  # ARPU\n",
    "ARPU"
   ]
  },
  {
   "cell_type": "code",
   "execution_count": 47,
   "id": "290e1a37",
   "metadata": {},
   "outputs": [
    {
     "data": {
      "text/html": [
       "<div>\n",
       "<style scoped>\n",
       "    .dataframe tbody tr th:only-of-type {\n",
       "        vertical-align: middle;\n",
       "    }\n",
       "\n",
       "    .dataframe tbody tr th {\n",
       "        vertical-align: top;\n",
       "    }\n",
       "\n",
       "    .dataframe thead th {\n",
       "        text-align: right;\n",
       "    }\n",
       "</style>\n",
       "<table border=\"1\" class=\"dataframe\">\n",
       "  <thead>\n",
       "    <tr style=\"text-align: right;\">\n",
       "      <th></th>\n",
       "      <th>grp</th>\n",
       "      <th>id</th>\n",
       "      <th>rev</th>\n",
       "    </tr>\n",
       "  </thead>\n",
       "  <tbody>\n",
       "    <tr>\n",
       "      <th>0</th>\n",
       "      <td>A</td>\n",
       "      <td>78</td>\n",
       "      <td>933.589744</td>\n",
       "    </tr>\n",
       "    <tr>\n",
       "      <th>1</th>\n",
       "      <td>B</td>\n",
       "      <td>314</td>\n",
       "      <td>1257.878981</td>\n",
       "    </tr>\n",
       "  </tbody>\n",
       "</table>\n",
       "</div>"
      ],
      "text/plain": [
       "  grp   id          rev\n",
       "0   A   78   933.589744\n",
       "1   B  314  1257.878981"
      ]
     },
     "execution_count": 47,
     "metadata": {},
     "output_type": "execute_result"
    }
   ],
   "source": [
    "ARPPU = abtest1.query('rev > 0').groupby('grp', as_index=False).agg({'id': 'count', 'rev': 'mean'})  # ARPPU\n",
    "ARPPU"
   ]
  },
  {
   "cell_type": "code",
   "execution_count": 48,
   "id": "b01a74d6",
   "metadata": {},
   "outputs": [],
   "source": [
    "metrics = pd.merge(ARPU, ARPPU, on='grp', how='inner')\n",
    "columns = ['grp', 'arpu_num', 'arpu', 'arppu_num', 'arppu']\n",
    "metrics.columns = columns\n",
    "metrics['cr'] = (metrics.arppu_num / metrics.arpu_num) * 100\n",
    "metrics = metrics.round(decimals=3)\n",
    "metrics = metrics[['grp', 'arpu_num', 'arppu_num', 'cr', 'arpu', 'arppu']]"
   ]
  },
  {
   "cell_type": "code",
   "execution_count": 49,
   "id": "a49f49d6",
   "metadata": {},
   "outputs": [
    {
     "data": {
      "text/html": [
       "<div>\n",
       "<style scoped>\n",
       "    .dataframe tbody tr th:only-of-type {\n",
       "        vertical-align: middle;\n",
       "    }\n",
       "\n",
       "    .dataframe tbody tr th {\n",
       "        vertical-align: top;\n",
       "    }\n",
       "\n",
       "    .dataframe thead th {\n",
       "        text-align: right;\n",
       "    }\n",
       "</style>\n",
       "<table border=\"1\" class=\"dataframe\">\n",
       "  <thead>\n",
       "    <tr style=\"text-align: right;\">\n",
       "      <th></th>\n",
       "      <th>grp</th>\n",
       "      <th>arpu_num</th>\n",
       "      <th>arppu_num</th>\n",
       "      <th>cr</th>\n",
       "      <th>arpu</th>\n",
       "      <th>arppu</th>\n",
       "    </tr>\n",
       "  </thead>\n",
       "  <tbody>\n",
       "    <tr>\n",
       "      <th>0</th>\n",
       "      <td>A</td>\n",
       "      <td>1538</td>\n",
       "      <td>78</td>\n",
       "      <td>5.072</td>\n",
       "      <td>47.347</td>\n",
       "      <td>933.590</td>\n",
       "    </tr>\n",
       "    <tr>\n",
       "      <th>1</th>\n",
       "      <td>B</td>\n",
       "      <td>6803</td>\n",
       "      <td>314</td>\n",
       "      <td>4.616</td>\n",
       "      <td>58.059</td>\n",
       "      <td>1257.879</td>\n",
       "    </tr>\n",
       "  </tbody>\n",
       "</table>\n",
       "</div>"
      ],
      "text/plain": [
       "  grp  arpu_num  arppu_num     cr    arpu     arppu\n",
       "0   A      1538         78  5.072  47.347   933.590\n",
       "1   B      6803        314  4.616  58.059  1257.879"
      ]
     },
     "execution_count": 49,
     "metadata": {},
     "output_type": "execute_result"
    }
   ],
   "source": [
    "metrics  # основные метрики"
   ]
  },
  {
   "cell_type": "markdown",
   "id": "98c0ed8c",
   "metadata": {},
   "source": [
    "##### Вывели для удобства метрики СR, APRU и ARPPU. Теперь их нужно проверить на статзначимые различия. Мы имеем распределение данных, которое отклоняется от нормального и существенно отличается в количестве наблюдений между группами A и B. Таким образом, при существенном отличии в количестве наблюдений между группами A и B и ненормальном распределении данных, рекомендуется использовать бутстрэп для анализа различий в нужной нам метрике ARPU. Также проверим и ARPPU, но все равно основной метрикой будем считать ARPU и СR вместе. Это позволит получить более надежную оценку изменений и учесть особенности выборки при проведении статистического анализа."
   ]
  },
  {
   "cell_type": "code",
   "execution_count": 53,
   "id": "026ca390",
   "metadata": {},
   "outputs": [],
   "source": [
    "def get_bootstrap(\n",
    "    data_column_1,  # числовые значения первой выборки\n",
    "    data_column_2,  # числовые значения второй выборки\n",
    "    boot_it=10000,  # количество бутстрэп-подвыборок\n",
    "    statistic=np.mean,  # интересующая нас статистика\n",
    "    bootstrap_conf_level=0.95  # уровень значимости\n",
    "):\n",
    "    boot_data = []\n",
    "    for i in tqdm(range(boot_it)):  # извлекаем подвыборки\n",
    "        samples_1 = data_column_1.sample(\n",
    "            len(data_column_1), \n",
    "            replace=True  # параметр возвращения\n",
    "        ).values\n",
    "        \n",
    "        samples_2 = data_column_2.sample(\n",
    "            len(data_column_1), \n",
    "            replace=True\n",
    "        ).values\n",
    "        \n",
    "        boot_data.append(statistic(samples_1) - statistic(samples_2))  # mean() - применяем статистику\n",
    "        \n",
    "    pd_boot_data = pd.DataFrame(boot_data)\n",
    "        \n",
    "    left_quant = (1 - bootstrap_conf_level) / 2\n",
    "    right_quant = 1 - (1 - bootstrap_conf_level) / 2\n",
    "    quants = pd_boot_data.quantile([left_quant, right_quant])\n",
    "        \n",
    "    p_1 = norm.cdf(\n",
    "        x=0, \n",
    "        loc=np.mean(boot_data), \n",
    "        scale=np.std(boot_data)\n",
    "    )\n",
    "    p_2 = norm.cdf(\n",
    "        x=0, \n",
    "        loc=-np.mean(boot_data), \n",
    "        scale=np.std(boot_data)\n",
    "    )\n",
    "    p_value = min(p_1, p_2) * 2\n",
    "        \n",
    "    # Визуализация\n",
    "    _, _, bars = plt.hist(pd_boot_data[0], bins=50)\n",
    "    for bar in bars:\n",
    "        if bar.get_x() <= quants.iloc[0][0] or bar.get_x() >= quants.iloc[1][0]:\n",
    "            bar.set_facecolor('red')\n",
    "        else: \n",
    "            bar.set_facecolor('grey')\n",
    "            bar.set_edgecolor('black')\n",
    "    \n",
    "    plt.style.use('ggplot')\n",
    "    plt.vlines(quants, ymin=0, ymax=50, linestyle='--')\n",
    "    plt.xlabel('boot_data')\n",
    "    plt.ylabel('frequency')\n",
    "    plt.title(\"Histogram of boot_data\")\n",
    "    plt.show()\n",
    "       \n",
    "    return {\"boot_data\": boot_data, \n",
    "            \"quants\": quants, \n",
    "            \"p_value\": p_value}"
   ]
  },
  {
   "cell_type": "code",
   "execution_count": 57,
   "id": "74c40d29",
   "metadata": {},
   "outputs": [
    {
     "name": "stderr",
     "output_type": "stream",
     "text": [
      "100%|██████████| 10000/10000 [00:03<00:00, 3224.94it/s]\n"
     ]
    },
    {
     "data": {
      "image/png": "[encoded data removed]",
      "text/plain": [
       "<Figure size 432x288 with 1 Axes>"
      ]
     },
     "metadata": {},
     "output_type": "display_data"
    }
   ],
   "source": [
    "boot_arpu = get_bootstrap(abtest1.query('grp == \"A\"').rev, abtest1.query('grp == \"B\"').rev)"
   ]
  },
  {
   "cell_type": "code",
   "execution_count": 58,
   "id": "5fdfc917",
   "metadata": {},
   "outputs": [
    {
     "data": {
      "text/plain": [
       "0.3199395268680858"
      ]
     },
     "execution_count": 58,
     "metadata": {},
     "output_type": "execute_result"
    }
   ],
   "source": [
    "boot_arpu[\"p_value\"]  # статистических различий в arpu нет"
   ]
  },
  {
   "cell_type": "code",
   "execution_count": 59,
   "id": "ff2decf7",
   "metadata": {},
   "outputs": [
    {
     "name": "stderr",
     "output_type": "stream",
     "text": [
      "100%|██████████| 10000/10000 [00:01<00:00, 5637.51it/s]\n"
     ]
    },
    {
     "data": {
      "image/png": "[encoded data removed]",
      "text/plain": [
       "<Figure size 432x288 with 1 Axes>"
      ]
     },
     "metadata": {},
     "output_type": "display_data"
    }
   ],
   "source": [
    "boot_arppu = get_bootstrap(abtest1.query('grp == \"A\" and rev > 0').rev, abtest1.query('grp == \"B\" and rev > 0').rev)"
   ]
  },
  {
   "cell_type": "code",
   "execution_count": 60,
   "id": "29daba77",
   "metadata": {},
   "outputs": [
    {
     "data": {
      "text/plain": [
       "0.018985258654164335"
      ]
     },
     "execution_count": 60,
     "metadata": {},
     "output_type": "execute_result"
    }
   ],
   "source": [
    "boot_arppu[\"p_value\"]  # есть статистические различия в ARPPU"
   ]
  },
  {
   "cell_type": "markdown",
   "id": "e6dcc5fc",
   "metadata": {},
   "source": [
    "##### Получены результаты: в ARPU нет статзначимых различий, а в ARPPU есть статзначимые различия. Так как эти результаты следует рассматриватьв  купе с CR, мы далее проверим CR, для этого введем категориальную переменную 'pur', где факт совершения покупки равен 1, если нету факта то 0. И снова используем бутстреп."
   ]
  },
  {
   "cell_type": "code",
   "execution_count": 61,
   "id": "7bbc1a84",
   "metadata": {},
   "outputs": [],
   "source": [
    "abtest1['pur'] = abtest1['rev'].apply(lambda x: 0 if x == 0 else 1)"
   ]
  },
  {
   "cell_type": "code",
   "execution_count": 62,
   "id": "12d373b4",
   "metadata": {},
   "outputs": [],
   "source": [
    "def get_bootstrap_difference(\n",
    "    data_column_1,  # числовые значения первой выборки\n",
    "    data_column_2,  # числовые значения второй выборки\n",
    "    boot_it=10000,  # количество бутстрэп-подвыборок\n",
    "    statistic=np.sum,  # интересующая нас статистика\n",
    "    bootstrap_conf_level=0.95  # уровень значимости\n",
    "):\n",
    "    boot_data = []\n",
    "    for i in tqdm(range(boot_it)):  # извлекаем подвыборки\n",
    "        samples_1 = data_column_1.sample(\n",
    "            len(data_column_1), \n",
    "            replace=True  # параметр возвращения\n",
    "        ).values\n",
    "        \n",
    "        samples_2 = data_column_2.sample(\n",
    "            len(data_column_1), \n",
    "            replace=True\n",
    "        ).values\n",
    "        \n",
    "        boot_data.append(statistic(samples_1) - statistic(samples_2))  # mean() - применяем статистику\n",
    "        \n",
    "    pd_boot_data = pd.DataFrame(boot_data)\n",
    "        \n",
    "    left_quant = (1 - bootstrap_conf_level) / 2\n",
    "    right_quant = 1 - (1 - bootstrap_conf_level) / 2\n",
    "    quants = pd_boot_data.quantile([left_quant, right_quant])\n",
    "        \n",
    "    p_1 = norm.cdf(\n",
    "        x=0, \n",
    "        loc=np.mean(boot_data), \n",
    "        scale=np.std(boot_data)\n",
    "    )\n",
    "    p_2 = norm.cdf(\n",
    "        x=0, \n",
    "        loc=-np.mean(boot_data), \n",
    "        scale=np.std(boot_data)\n",
    "    )\n",
    "    p_value = min(p_1, p_2) * 2\n",
    "        \n",
    "    # Визуализация\n",
    "    _, _, bars = plt.hist(pd_boot_data[0], bins=50)\n",
    "    for bar in bars:\n",
    "        if bar.get_x() <= quants.iloc[0][0] or bar.get_x() >= quants.iloc[1][0]:\n",
    "            bar.set_facecolor('red')\n",
    "        else: \n",
    "            bar.set_facecolor('grey')\n",
    "            bar.set_edgecolor('black')\n",
    "    \n",
    "    plt.style.use('ggplot')\n",
    "    plt.vlines(quants, ymin=0, ymax=50, linestyle='--')\n",
    "    plt.xlabel('boot_data')\n",
    "    plt.ylabel('frequency')\n",
    "    plt.title(\"Histogram of boot_data\")\n",
    "    plt.show()\n",
    "       \n",
    "    return {\"boot_data\": boot_data, \n",
    "            \"quants\": quants, \n",
    "            \"p_value\": p_value}"
   ]
  },
  {
   "cell_type": "code",
   "execution_count": 63,
   "id": "c97d1c0e",
   "metadata": {},
   "outputs": [
    {
     "name": "stderr",
     "output_type": "stream",
     "text": [
      "100%|██████████| 10000/10000 [00:02<00:00, 3373.05it/s]\n"
     ]
    },
    {
     "data": {
      "image/png": "[encoded data removed]",
      "text/plain": [
       "<Figure size 432x288 with 1 Axes>"
      ]
     },
     "metadata": {},
     "output_type": "display_data"
    }
   ],
   "source": [
    "boot_cr = get_bootstrap_difference(abtest1.query('grp == \"A\"').pur, abtest1.query('grp == \"B\"').pur)"
   ]
  },
  {
   "cell_type": "code",
   "execution_count": 66,
   "id": "d147d3af",
   "metadata": {},
   "outputs": [
    {
     "data": {
      "text/plain": [
       "0.5703849291002597"
      ]
     },
     "execution_count": 66,
     "metadata": {},
     "output_type": "execute_result"
    }
   ],
   "source": [
    "boot_cr[\"p_value\"]  # нету статистической разницы в конверсиях между группами"
   ]
  },
  {
   "cell_type": "code",
   "execution_count": 69,
   "id": "d425dd2f",
   "metadata": {},
   "outputs": [
    {
     "name": "stderr",
     "output_type": "stream",
     "text": [
      "100%|██████████| 10000/10000 [00:03<00:00, 3097.00it/s]\n"
     ]
    },
    {
     "data": {
      "image/png": "[encoded data removed]",
      "text/plain": [
       "<Figure size 432x288 with 1 Axes>"
      ]
     },
     "metadata": {},
     "output_type": "display_data"
    }
   ],
   "source": [
    "boot_cr1 = get_bootstrap(abtest1.query('grp == \"A\"').pur, abtest1.query('grp == \"B\"').pur)"
   ]
  },
  {
   "cell_type": "code",
   "execution_count": 70,
   "id": "dbfa2856",
   "metadata": {},
   "outputs": [
    {
     "data": {
      "text/plain": [
       "0.553677036112106"
      ]
     },
     "execution_count": 70,
     "metadata": {},
     "output_type": "execute_result"
    }
   ],
   "source": [
    "boot_cr1[\"p_value\"]  # нету статистической разницы в конверсиях между группами"
   ]
  },
  {
   "cell_type": "markdown",
   "id": "d626751e",
   "metadata": {},
   "source": [
    "##### p-value > 0.05 во всех тестах, значит нет статистически значимого различия конверсий в покупку между группами A и B. То есть, основываясь на этом, мы не можем сделать вывод о статистической значимости различий CR между группами."
   ]
  },
  {
   "cell_type": "markdown",
   "id": "0c40a8b9",
   "metadata": {},
   "source": [
    "### Task1 answer: В рамках проведенного исследования было проанализировано влияние изменения механики оплаты на метрики Conversion Rate (CR) и Average Revenue Per User (ARPU). Гипотеза, состоящая в том, что изменение механики оплаты будет иметь статистически значимое влияние на данные метрики, была подвергнута проверке. Для анализа были использованы данные из двух групп (группа A и группа B). Применяя соответствующие статистические методы, в частности бутстрэп-анализ, были получены следующие результаты: \n",
    "   - Conversion Rate (CR): После внесения изменений в механику оплаты не было обнаружено статистически значимых различий в CR между группами A и B. Это означает, что изменение механики оплаты не привело к существенным изменениям в проценте успешных событий от общего числа событий в обеих группах.\n",
    "\n",
    "   - Average Revenue Per User (ARPU): Анализ ARPU также не выявил статистически значимых различий между группами A и B после изменения механики оплаты. Средний доход на пользователя оставался стабильным в обеих группах."
   ]
  },
  {
   "cell_type": "markdown",
   "id": "ffdce0db",
   "metadata": {},
   "source": [
    "### На основе полученных результатов можно сделать вывод, что изменение механики оплаты не привело к статистически значимым изменениям в CR и ARPU. Это означает, что внесенные изменения не оказали существенного влияния на эти метрики и не стоит запускать новую механику на всех пользователей."
   ]
  },
  {
   "cell_type": "markdown",
   "id": "c8d7a596",
   "metadata": {},
   "source": [
    "<font size=\"1\">PS. Важно отметить, что проведенный анализ основан на доступных данных и методах, которые были выбраны для данного исследования. Результаты могут быть специфичны для данного контекста исследования. В данном случае выявленные различия в ARPPU, все таки говорят о том, что в действительности тут есть влияния маркетингового характера. Все-таки для чистоты A/B-тестов нужно изолировать изменяемые переменные для более точной оценки и понимания их влияния на метрики и результаты. Поэтому в идеале следует избегать одновременного изменения и механики оплаты, и маркетинговых акций в рамках одного A/B-теста.Если мы хотим оценить влияние механики оплаты на метрики, то лучше провести отдельный A/B-тест, в котором изменяется только механика оплаты, а все остальные факторы остаются неизменными. Таким образом, мы сможем более точно измерить и сравнить эффекты разных вариантов механики оплаты на метрики, без влияния других переменных. И когда мы хотим оценить влияние маркетинговых акций, включая изменение цены или предложения, то в таком случае важно учитывать, что механика оплаты может быть одним из факторов, влияющих на реакцию потребителей на акцию. Поэтому при проведении A/B-тестов с маркетинговыми акциями рекомендуется контролировать и стандартизировать механику оплаты, чтобы минимизировать ее влияние на результаты. В целом, отделение и изоляция переменных, таких как механика оплаты и маркетинговые акции, в A/B-тестировании помогут получить более точные и надежные данные о влиянии каждого фактора на метрики и принять обоснованные решения на основе этих результатов. По итогам данного исследования можно рекомендовать провести дополнительные исследования с учетом вышеизложенных факторов.</font>"
   ]
  },
  {
   "cell_type": "markdown",
   "id": "87e1567f",
   "metadata": {},
   "source": [
    "### Task 2. SQL\n",
    "    2.1 Очень усердные ученики.\n",
    "\n",
    "    2.1.1 Условие\n",
    "\n",
    "Образовательные курсы состоят из различных уроков, каждый из которых состоит из нескольких маленьких заданий. Каждое такое маленькое задание называется \"горошиной\".\n",
    "\n",
    "Назовём очень усердным учеником того пользователя, который хотя бы раз за текущий месяц правильно решил 20 горошин."
   ]
  },
  {
   "cell_type": "code",
   "execution_count": 2,
   "id": "1d4aa3d7",
   "metadata": {},
   "outputs": [],
   "source": [
    "connection_default = {'host': 'https://clickhouse.lab.karpov.courses',\n",
    "                      'database': 'default',\n",
    "                      'user': 'student', \n",
    "                      'password': 'dpo_python_2020'}"
   ]
  },
  {
   "cell_type": "markdown",
   "id": "3217707e",
   "metadata": {},
   "source": [
    "2.1.2 Задача\n",
    "\n",
    "Дана таблица default.peas:"
   ]
  },
  {
   "cell_type": "code",
   "execution_count": 3,
   "id": "bddaafe4",
   "metadata": {},
   "outputs": [
    {
     "data": {
      "text/html": [
       "<div>\n",
       "<style scoped>\n",
       "    .dataframe tbody tr th:only-of-type {\n",
       "        vertical-align: middle;\n",
       "    }\n",
       "\n",
       "    .dataframe tbody tr th {\n",
       "        vertical-align: top;\n",
       "    }\n",
       "\n",
       "    .dataframe thead th {\n",
       "        text-align: right;\n",
       "    }\n",
       "</style>\n",
       "<table border=\"1\" class=\"dataframe\">\n",
       "  <thead>\n",
       "    <tr style=\"text-align: right;\">\n",
       "      <th></th>\n",
       "      <th>st_id</th>\n",
       "      <th>timest</th>\n",
       "      <th>correct</th>\n",
       "      <th>subject</th>\n",
       "    </tr>\n",
       "  </thead>\n",
       "  <tbody>\n",
       "    <tr>\n",
       "      <th>0</th>\n",
       "      <td>100379</td>\n",
       "      <td>2021-10-30 13:32:29</td>\n",
       "      <td>1</td>\n",
       "      <td>Theory of probability</td>\n",
       "    </tr>\n",
       "    <tr>\n",
       "      <th>1</th>\n",
       "      <td>100379</td>\n",
       "      <td>2021-10-30 14:11:19</td>\n",
       "      <td>0</td>\n",
       "      <td>Vizualization</td>\n",
       "    </tr>\n",
       "    <tr>\n",
       "      <th>2</th>\n",
       "      <td>100379</td>\n",
       "      <td>2021-10-30 15:54:22</td>\n",
       "      <td>1</td>\n",
       "      <td>Theory of probability</td>\n",
       "    </tr>\n",
       "    <tr>\n",
       "      <th>3</th>\n",
       "      <td>100379</td>\n",
       "      <td>2021-10-30 16:44:50</td>\n",
       "      <td>1</td>\n",
       "      <td>Vizualization</td>\n",
       "    </tr>\n",
       "    <tr>\n",
       "      <th>4</th>\n",
       "      <td>100379</td>\n",
       "      <td>2021-10-30 17:15:05</td>\n",
       "      <td>1</td>\n",
       "      <td>Theory of probability</td>\n",
       "    </tr>\n",
       "  </tbody>\n",
       "</table>\n",
       "</div>"
      ],
      "text/plain": [
       "    st_id              timest  correct                subject\n",
       "0  100379 2021-10-30 13:32:29        1  Theory of probability\n",
       "1  100379 2021-10-30 14:11:19        0          Vizualization\n",
       "2  100379 2021-10-30 15:54:22        1  Theory of probability\n",
       "3  100379 2021-10-30 16:44:50        1          Vizualization\n",
       "4  100379 2021-10-30 17:15:05        1  Theory of probability"
      ]
     },
     "execution_count": 3,
     "metadata": {},
     "output_type": "execute_result"
    }
   ],
   "source": [
    "# создаем запрос, db автоматически заменится на значение из database\n",
    "q = '''\n",
    "    SELECT \n",
    "        st_id,\n",
    "        toDateTime(timest) AS timest,\n",
    "        correct,\n",
    "        subject \n",
    "    FROM default.peas\n",
    "    LIMIT 5\n",
    "    '''\n",
    "\n",
    "# отправляем запрос и записываем результат в пандасовский датафрейм\n",
    "peas = ph.read_clickhouse(query=q, connection=connection_default)\n",
    "peas"
   ]
  },
  {
   "cell_type": "markdown",
   "id": "53983621",
   "metadata": {},
   "source": [
    "Необходимо написать оптимальный запрос, который даст информацию о количестве очень усердных студентов.NB! Под усердным студентом мы понимаем студента, который правильно решил 20 задач за текущий месяц."
   ]
  },
  {
   "cell_type": "code",
   "execution_count": 4,
   "id": "354bb994",
   "metadata": {},
   "outputs": [
    {
     "data": {
      "text/html": [
       "<div>\n",
       "<style scoped>\n",
       "    .dataframe tbody tr th:only-of-type {\n",
       "        vertical-align: middle;\n",
       "    }\n",
       "\n",
       "    .dataframe tbody tr th {\n",
       "        vertical-align: top;\n",
       "    }\n",
       "\n",
       "    .dataframe thead th {\n",
       "        text-align: right;\n",
       "    }\n",
       "</style>\n",
       "<table border=\"1\" class=\"dataframe\">\n",
       "  <thead>\n",
       "    <tr style=\"text-align: right;\">\n",
       "      <th></th>\n",
       "      <th>count_good_stud</th>\n",
       "    </tr>\n",
       "  </thead>\n",
       "  <tbody>\n",
       "    <tr>\n",
       "      <th>0</th>\n",
       "      <td>136</td>\n",
       "    </tr>\n",
       "  </tbody>\n",
       "</table>\n",
       "</div>"
      ],
      "text/plain": [
       "   count_good_stud\n",
       "0              136"
      ]
     },
     "execution_count": 4,
     "metadata": {},
     "output_type": "execute_result"
    }
   ],
   "source": [
    "# создаем запрос, db автоматически заменится на значение из database\n",
    "q = '''\n",
    "    SELECT count() AS count_good_stud\n",
    "    FROM\n",
    "    (\n",
    "        SELECT st_id\n",
    "        FROM default.peas\n",
    "        WHERE toYear(timest) * 12 + toMonth(timest) = (\n",
    "            SELECT max(toYear(timest) * 12 + toMonth(timest)) FROM default.peas\n",
    "        )\n",
    "        GROUP BY st_id\n",
    "        HAVING sum(correct) >= 20\n",
    "    )\n",
    "    '''\n",
    "# отправляем запрос и записываем результат в пандасовский датафрейм\n",
    "good_studs = ph.read_clickhouse(query=q, connection=connection_default)\n",
    "good_studs"
   ]
  },
  {
   "cell_type": "markdown",
   "id": "b47ea759",
   "metadata": {},
   "source": [
    "### Task 2.1.2 answer: 136 усердных студентов правильно решивших от 20 задач за текущий месяц! В базе данных представлена информация только за 1 месяц октябрь 21года, тоесть за текущий месяц май 2023 года в базе нету никого. Поэтому будем считать что текущий месяц это последний релевантый месяц в базе данных."
   ]
  },
  {
   "cell_type": "markdown",
   "id": "361df3e9",
   "metadata": {},
   "source": [
    "    2.2 Оптимизация воронки\n",
    "\n",
    "    2.2.1 Условие\n",
    "\n",
    "Образовательная платформа предлагает пройти студентам курсы по модели trial: студент может решить бесплатно лишь 30 горошин в день. Для неограниченного количества заданий в определенной дисциплине студенту необходимо приобрести полный доступ. Команда провела эксперимент, где был протестирован новый экран оплаты.\n",
    "\n",
    "    2.2.2 Задача\n",
    "\n",
    "Дана таблицы: default.peas (см. выше), default.studs:"
   ]
  },
  {
   "cell_type": "code",
   "execution_count": 9,
   "id": "e92a36ba",
   "metadata": {},
   "outputs": [
    {
     "data": {
      "text/html": [
       "<div>\n",
       "<style scoped>\n",
       "    .dataframe tbody tr th:only-of-type {\n",
       "        vertical-align: middle;\n",
       "    }\n",
       "\n",
       "    .dataframe tbody tr th {\n",
       "        vertical-align: top;\n",
       "    }\n",
       "\n",
       "    .dataframe thead th {\n",
       "        text-align: right;\n",
       "    }\n",
       "</style>\n",
       "<table border=\"1\" class=\"dataframe\">\n",
       "  <thead>\n",
       "    <tr style=\"text-align: right;\">\n",
       "      <th></th>\n",
       "      <th>st_id</th>\n",
       "      <th>test_grp</th>\n",
       "    </tr>\n",
       "  </thead>\n",
       "  <tbody>\n",
       "    <tr>\n",
       "      <th>0</th>\n",
       "      <td>100379</td>\n",
       "      <td>pilot</td>\n",
       "    </tr>\n",
       "    <tr>\n",
       "      <th>1</th>\n",
       "      <td>101432</td>\n",
       "      <td>control</td>\n",
       "    </tr>\n",
       "    <tr>\n",
       "      <th>2</th>\n",
       "      <td>104818</td>\n",
       "      <td>pilot</td>\n",
       "    </tr>\n",
       "    <tr>\n",
       "      <th>3</th>\n",
       "      <td>104885</td>\n",
       "      <td>pilot</td>\n",
       "    </tr>\n",
       "    <tr>\n",
       "      <th>4</th>\n",
       "      <td>104966</td>\n",
       "      <td>pilot</td>\n",
       "    </tr>\n",
       "  </tbody>\n",
       "</table>\n",
       "</div>"
      ],
      "text/plain": [
       "    st_id test_grp\n",
       "0  100379    pilot\n",
       "1  101432  control\n",
       "2  104818    pilot\n",
       "3  104885    pilot\n",
       "4  104966    pilot"
      ]
     },
     "execution_count": 9,
     "metadata": {},
     "output_type": "execute_result"
    }
   ],
   "source": [
    "# создаем запрос, db автоматически заменится на значение из database\n",
    "q = '''\n",
    "    SELECT * FROM default.studs\n",
    "    LIMIT 5\n",
    "    '''\n",
    "\n",
    "# отправляем запрос и записываем результат в пандасовский датафрейм\n",
    "studs = ph.read_clickhouse(query=q, connection=connection_default)\n",
    "studs"
   ]
  },
  {
   "cell_type": "markdown",
   "id": "51b00dff",
   "metadata": {},
   "source": [
    "и default.final_project_check:"
   ]
  },
  {
   "cell_type": "code",
   "execution_count": 12,
   "id": "65a0be67",
   "metadata": {},
   "outputs": [
    {
     "data": {
      "text/html": [
       "<div>\n",
       "<style scoped>\n",
       "    .dataframe tbody tr th:only-of-type {\n",
       "        vertical-align: middle;\n",
       "    }\n",
       "\n",
       "    .dataframe tbody tr th {\n",
       "        vertical-align: top;\n",
       "    }\n",
       "\n",
       "    .dataframe thead th {\n",
       "        text-align: right;\n",
       "    }\n",
       "</style>\n",
       "<table border=\"1\" class=\"dataframe\">\n",
       "  <thead>\n",
       "    <tr style=\"text-align: right;\">\n",
       "      <th></th>\n",
       "      <th>st_id</th>\n",
       "      <th>sale_time</th>\n",
       "      <th>money</th>\n",
       "      <th>subject</th>\n",
       "    </tr>\n",
       "  </thead>\n",
       "  <tbody>\n",
       "    <tr>\n",
       "      <th>0</th>\n",
       "      <td>101432</td>\n",
       "      <td>2021-10-31 04:44:32</td>\n",
       "      <td>85000</td>\n",
       "      <td>Math</td>\n",
       "    </tr>\n",
       "    <tr>\n",
       "      <th>1</th>\n",
       "      <td>101432</td>\n",
       "      <td>2021-10-31 12:43:50</td>\n",
       "      <td>65000</td>\n",
       "      <td>Vizualization</td>\n",
       "    </tr>\n",
       "    <tr>\n",
       "      <th>2</th>\n",
       "      <td>104885</td>\n",
       "      <td>2021-10-30 17:05:55</td>\n",
       "      <td>65000</td>\n",
       "      <td>Vizualization</td>\n",
       "    </tr>\n",
       "    <tr>\n",
       "      <th>3</th>\n",
       "      <td>104885</td>\n",
       "      <td>2021-10-30 22:49:33</td>\n",
       "      <td>75000</td>\n",
       "      <td>Statistics</td>\n",
       "    </tr>\n",
       "    <tr>\n",
       "      <th>4</th>\n",
       "      <td>106464</td>\n",
       "      <td>2021-10-31 13:17:13</td>\n",
       "      <td>85000</td>\n",
       "      <td>Math</td>\n",
       "    </tr>\n",
       "  </tbody>\n",
       "</table>\n",
       "</div>"
      ],
      "text/plain": [
       "    st_id           sale_time  money        subject\n",
       "0  101432 2021-10-31 04:44:32  85000           Math\n",
       "1  101432 2021-10-31 12:43:50  65000  Vizualization\n",
       "2  104885 2021-10-30 17:05:55  65000  Vizualization\n",
       "3  104885 2021-10-30 22:49:33  75000     Statistics\n",
       "4  106464 2021-10-31 13:17:13  85000           Math"
      ]
     },
     "execution_count": 12,
     "metadata": {},
     "output_type": "execute_result"
    }
   ],
   "source": [
    "# создаем запрос, db автоматически заменится на значение из database\n",
    "q = '''\n",
    "    SELECT st_id,\n",
    "        toDateTime(sale_time) AS sale_time,\n",
    "        money,\n",
    "        subject\n",
    "    FROM default.final_project_check\n",
    "    LIMIT 5\n",
    "    '''\n",
    "\n",
    "# отправляем запрос и записываем результат в пандасовский датафрейм\n",
    "project_check = ph.read_clickhouse(query=q, connection=connection_default)\n",
    "project_check"
   ]
  },
  {
   "cell_type": "markdown",
   "id": "9f0d1ebb",
   "metadata": {},
   "source": [
    "Необходимо в одном запросе выгрузить следующую информацию о группах пользователей:\n",
    "\n",
    "    ARPU\n",
    "    ARPAU \n",
    "    CR в покупку \n",
    "    СR активного пользователя в покупку \n",
    "    CR пользователя из активности по математике (subject = ’math’) в покупку курса по математике\n",
    "ARPU считается относительно всех пользователей, попавших в группы.\n",
    "\n",
    "Активным считается пользователь, за все время решивший больше 10 задач правильно в любых дисциплинах.\n",
    "\n",
    "Активным по математике считается пользователь, за все время решивший 2 или больше задач правильно по математике."
   ]
  },
  {
   "cell_type": "code",
   "execution_count": 5,
   "id": "e20b441c",
   "metadata": {},
   "outputs": [
    {
     "data": {
      "text/html": [
       "<div>\n",
       "<style scoped>\n",
       "    .dataframe tbody tr th:only-of-type {\n",
       "        vertical-align: middle;\n",
       "    }\n",
       "\n",
       "    .dataframe tbody tr th {\n",
       "        vertical-align: top;\n",
       "    }\n",
       "\n",
       "    .dataframe thead th {\n",
       "        text-align: right;\n",
       "    }\n",
       "</style>\n",
       "<table border=\"1\" class=\"dataframe\">\n",
       "  <thead>\n",
       "    <tr style=\"text-align: right;\">\n",
       "      <th></th>\n",
       "      <th>group</th>\n",
       "      <th>ARPU</th>\n",
       "      <th>ARPAU</th>\n",
       "      <th>CR_all</th>\n",
       "      <th>CR_active_all</th>\n",
       "      <th>CR_active_math</th>\n",
       "    </tr>\n",
       "  </thead>\n",
       "  <tbody>\n",
       "    <tr>\n",
       "      <th>0</th>\n",
       "      <td>control</td>\n",
       "      <td>4540.983607</td>\n",
       "      <td>10393.700787</td>\n",
       "      <td>4.918033</td>\n",
       "      <td>11.023622</td>\n",
       "      <td>6.122449</td>\n",
       "    </tr>\n",
       "    <tr>\n",
       "      <th>1</th>\n",
       "      <td>pilot</td>\n",
       "      <td>11508.474576</td>\n",
       "      <td>29739.583333</td>\n",
       "      <td>10.847458</td>\n",
       "      <td>26.041667</td>\n",
       "      <td>9.523810</td>\n",
       "    </tr>\n",
       "  </tbody>\n",
       "</table>\n",
       "</div>"
      ],
      "text/plain": [
       "     group          ARPU         ARPAU     CR_all  CR_active_all  \\\n",
       "0  control   4540.983607  10393.700787   4.918033      11.023622   \n",
       "1    pilot  11508.474576  29739.583333  10.847458      26.041667   \n",
       "\n",
       "   CR_active_math  \n",
       "0        6.122449  \n",
       "1        9.523810  "
      ]
     },
     "execution_count": 5,
     "metadata": {},
     "output_type": "execute_result"
    }
   ],
   "source": [
    "# создаем запрос, db автоматически заменится на значение из database\n",
    "q = '''\n",
    "SELECT\n",
    "    A.test_grp AS group,\n",
    "    SUM(C.money) / COUNT(DISTINCT A.st_id) AS ARPU,\n",
    "    SUM(CASE WHEN B.correct_all > 10 THEN C.money ELSE 0 END) / \n",
    "        COUNT(DISTINCT CASE WHEN B.correct_all > 10 THEN A.st_id END) AS ARPAU,\n",
    "    (COUNT(DISTINCT CASE WHEN C.money != 0 THEN C.st_id END) / COUNT(DISTINCT A.st_id))*100 AS CR_all,\n",
    "    (COUNT(DISTINCT CASE WHEN C.money != 0 AND B.correct_all > \n",
    "        10 THEN A.st_id END) / COUNT(DISTINCT CASE WHEN B.correct_all > 10 THEN A.st_id END))*100 AS CR_active_all,\n",
    "    (COUNT(DISTINCT CASE WHEN C.subject = \n",
    "        'Math' AND B.correct_math >= 2 AND C.money != 0 THEN A.st_id END) / COUNT(DISTINCT CASE WHEN B.correct_math >= \n",
    "            2 THEN A.st_id END))*100 AS CR_active_math\n",
    "FROM \n",
    "    default.studs AS A\n",
    "LEFT JOIN default.final_project_check AS C\n",
    "    ON A.st_id = C.st_id\n",
    "LEFT JOIN (\n",
    "    SELECT\n",
    "        st_id,\n",
    "        COUNT(DISTINCT CASE WHEN correct = 1 THEN timest END) AS correct_all,\n",
    "        SUM(CASE WHEN subject = 'Math' THEN correct END) AS correct_math\n",
    "    FROM\n",
    "        default.peas\n",
    "    GROUP BY\n",
    "        st_id\n",
    ") AS B\n",
    "ON A.st_id = B.st_id\n",
    "GROUP BY\n",
    "    group\n",
    "    '''\n",
    "# отправляем запрос и записываем результат в пандасовский датафрейм\n",
    "project_check = ph.read_clickhouse(query=q, connection=connection_default)\n",
    "project_check"
   ]
  },
  {
   "cell_type": "markdown",
   "id": "a98651e1",
   "metadata": {},
   "source": [
    "### Task 2.2.2 answer: Получили указанные метрики в один запрос. Пилотная группа показывает улучшение по всем метрикам."
   ]
  },
  {
   "cell_type": "markdown",
   "id": "7fab7b47",
   "metadata": {},
   "source": [
    "### Task 3. Python\n",
    "    3.1 Задача\n",
    "Реализуйте функцию, которая будет автоматически подгружать информацию из дополнительного файла groups_add.csv (заголовки могут отличаться) и на основании дополнительных параметров пересчитывать метрики.\n",
    "\n",
    "    3.2 Задача\n",
    "Реализуйте функцию, которая будет строить графики по получаемым метрикам."
   ]
  },
  {
   "cell_type": "code",
   "execution_count": 7,
   "id": "d525c572",
   "metadata": {},
   "outputs": [],
   "source": [
    "def metrics_update(groups_add):\n",
    "    \"\"\"\n",
    "    Обновляет метрики ARPU, ARPPU и CR на основе данных из разных источников.\n",
    "\n",
    "    Аргументы:\n",
    "    - groups_add (str): Ссылка на файл с дополнительными данными о группах.\n",
    "\n",
    "    Возвращает:\n",
    "    - metrics (pandas.DataFrame): Таблица с обновленными метриками ARPU, ARPPU и CR.\n",
    "\n",
    "    Примечания:\n",
    "    - Функция загружает данные из разных источников.\n",
    "    - Объединяет данные о группах.\n",
    "    - Вычисляет ARPU (средний доход на пользователя) и ARPPU (средний доход на платящего пользователя).\n",
    "    - Вычисляет CR (конверсию) - отношение количества платящих пользователей к общему количеству пользователей в группе.\n",
    "    - Возвращает таблицу с обновленными метриками.\n",
    "\n",
    "    \"\"\"\n",
    "    # встраиваем функцию загрузки\n",
    "    def get_data(file_url, sep=None):\n",
    "        if sep is None:\n",
    "            sep = ';'\n",
    "        base_url = 'https://cloud-api.yandex.net/v1/disk/public/resources/download?'\n",
    "        final_url = base_url + urlencode(dict(public_key=file_url))\n",
    "        r = requests.get(final_url)\n",
    "        download_url = r.json()['href']\n",
    "        df = pd.read_csv(download_url, sep=sep)\n",
    "        return df\n",
    "\n",
    "    # ccылки на данные\n",
    "    groups = 'https://disk.yandex.ru/d/lknJyFiqOt3IMA'\n",
    "    active_studs = 'https://disk.yandex.ru/d/_gI_QbjQJwah4Q'\n",
    "    checks = 'https://disk.yandex.ru/d/45Ox3RS-gfWL7w'\n",
    "\n",
    "    # загрузка самих данных\n",
    "    groups = get_data(groups)\n",
    "    groups_add = get_data(groups_add, sep=',')\n",
    "    active_studs = get_data(active_studs)\n",
    "    checks = get_data(checks)\n",
    "\n",
    "    # все тоже самое из кода первого задания\n",
    "    concat = pd.concat([groups, groups_add], ignore_index=True)\n",
    "    active = pd.merge(active_studs, concat, left_on='student_id', right_on='id', how='inner')\n",
    "    active = active[['id', 'grp']]\n",
    "\n",
    "    df_update = pd.merge(active, checks, left_on='id', right_on='student_id', how='left')\n",
    "    df_update = df_update[['id', 'grp', 'rev']]\n",
    "    df_update = df_update.fillna(0)\n",
    "\n",
    "    ARPU = df_update.groupby('grp', as_index=False).agg({'id': 'count', 'rev': 'mean'})\n",
    "    ARPPU = df_update.query('rev > 0').groupby('grp', as_index=False).agg({'id': 'count', 'rev': 'mean'})\n",
    "    metrics = pd.merge(ARPU, ARPPU, on='grp', how='inner')\n",
    "    columns = ['grp', 'arpu_num', 'arpu', 'arppu_num', 'arppu']\n",
    "    metrics.columns = columns\n",
    "    metrics['cr'] = (metrics.arppu_num / metrics.arpu_num) * 100\n",
    "    metrics = metrics.round(decimals=3)\n",
    "    metrics = metrics[['grp', 'arpu_num', 'arppu_num', 'cr', 'arpu', 'arppu']]\n",
    "\n",
    "    return metrics"
   ]
  },
  {
   "cell_type": "code",
   "execution_count": 8,
   "id": "aeededc7",
   "metadata": {},
   "outputs": [
    {
     "data": {
      "text/html": [
       "<div>\n",
       "<style scoped>\n",
       "    .dataframe tbody tr th:only-of-type {\n",
       "        vertical-align: middle;\n",
       "    }\n",
       "\n",
       "    .dataframe tbody tr th {\n",
       "        vertical-align: top;\n",
       "    }\n",
       "\n",
       "    .dataframe thead th {\n",
       "        text-align: right;\n",
       "    }\n",
       "</style>\n",
       "<table border=\"1\" class=\"dataframe\">\n",
       "  <thead>\n",
       "    <tr style=\"text-align: right;\">\n",
       "      <th></th>\n",
       "      <th>grp</th>\n",
       "      <th>arpu_num</th>\n",
       "      <th>arppu_num</th>\n",
       "      <th>cr</th>\n",
       "      <th>arpu</th>\n",
       "      <th>arppu</th>\n",
       "    </tr>\n",
       "  </thead>\n",
       "  <tbody>\n",
       "    <tr>\n",
       "      <th>0</th>\n",
       "      <td>A</td>\n",
       "      <td>1538</td>\n",
       "      <td>78</td>\n",
       "      <td>5.072</td>\n",
       "      <td>47.347</td>\n",
       "      <td>933.590</td>\n",
       "    </tr>\n",
       "    <tr>\n",
       "      <th>1</th>\n",
       "      <td>B</td>\n",
       "      <td>6803</td>\n",
       "      <td>314</td>\n",
       "      <td>4.616</td>\n",
       "      <td>58.059</td>\n",
       "      <td>1257.879</td>\n",
       "    </tr>\n",
       "  </tbody>\n",
       "</table>\n",
       "</div>"
      ],
      "text/plain": [
       "  grp  arpu_num  arppu_num     cr    arpu     arppu\n",
       "0   A      1538         78  5.072  47.347   933.590\n",
       "1   B      6803        314  4.616  58.059  1257.879"
      ]
     },
     "execution_count": 8,
     "metadata": {},
     "output_type": "execute_result"
    }
   ],
   "source": [
    "groups_add = 'https://disk.yandex.ru/d/KQ4jmHlH1ATDgw'\n",
    "updated_metrics = metrics_update(groups_add)\n",
    "updated_metrics"
   ]
  },
  {
   "cell_type": "code",
   "execution_count": 15,
   "id": "52601488",
   "metadata": {},
   "outputs": [],
   "source": [
    "def plot_metrics(metrics):\n",
    "    \"\"\"\n",
    "    Визуализирует метрики ARPU, ARPPU и CR в виде графиков.\n",
    "\n",
    "    Аргументы:\n",
    "    - metrics (pandas.DataFrame): Таблица с метриками ARPU, ARPPU и CR.\n",
    "\n",
    "    Возвращает:\n",
    "    - Визуализирует метрику ARPU, ARPPU и CR в виде гистограммы для каждой группы.\n",
    "    - Визуализирует размер выборки для каждой группы.\n",
    "    \"\"\"\n",
    "    fig, axs = plt.subplots(2, 2, figsize=(10, 8))\n",
    "\n",
    "    # ARPU\n",
    "    axs[0, 0].bar(metrics['grp'], metrics['arpu'], color='tab:blue')\n",
    "    axs[0, 0].set_title('ARPU')\n",
    "    axs[0, 0].set_xlabel('Group')\n",
    "    axs[0, 0].set_ylabel('ARPU')\n",
    "    add_value_labels(axs[0, 0]) \n",
    "\n",
    "    # ARPPU\n",
    "    axs[0, 1].bar(metrics['grp'], metrics['arppu'], color='tab:blue')\n",
    "    axs[0, 1].set_title('ARPPU')\n",
    "    axs[0, 1].set_xlabel('Group')\n",
    "    axs[0, 1].set_ylabel('ARPPU')\n",
    "    add_value_labels(axs[0, 1]) \n",
    "\n",
    "    # Conversion Rate\n",
    "    axs[1, 0].bar(metrics['grp'], metrics['cr'], color='tab:blue')\n",
    "    axs[1, 0].set_title('Conversion Rate')\n",
    "    axs[1, 0].set_xlabel('Group')\n",
    "    axs[1, 0].set_ylabel('Conversion Rate')\n",
    "    add_value_labels(axs[1, 0]) \n",
    "\n",
    "    # Size\n",
    "    axs[1, 1].bar(metrics['grp'], metrics['arpu_num'], label='ARPU', color='tab:blue')\n",
    "    axs[1, 1].bar(metrics['grp'], metrics['arppu_num'], label='ARPPU')\n",
    "    axs[1, 1].set_title('Sample Size')\n",
    "    axs[1, 1].set_xlabel('Group')\n",
    "    axs[1, 1].set_ylabel('Sampling')\n",
    "    add_value_labels(axs[1, 1])\n",
    "    axs[1, 1].legend()\n",
    "\n",
    "    # tightfit\n",
    "    fig.tight_layout()\n",
    "    plt.show()\n",
    "\n",
    "def add_value_labels(ax):\n",
    "    for rect in ax.patches:\n",
    "        height = rect.get_height()\n",
    "        ax.annotate('{}'.format(height),\n",
    "                    xy=(rect.get_x() + rect.get_width() / 2, height),\n",
    "                    xytext=(0, 0),\n",
    "                    textcoords=\"offset points\",\n",
    "                    ha='center', va='bottom')"
   ]
  },
  {
   "cell_type": "markdown",
   "id": "668ab910",
   "metadata": {},
   "source": [
    "### Task 3 answer:"
   ]
  },
  {
   "cell_type": "code",
   "execution_count": 16,
   "id": "7798c62d",
   "metadata": {
    "scrolled": false
   },
   "outputs": [
    {
     "data": {
      "image/png": "[encoded data removed]",
      "text/plain": [
       "<Figure size 720x576 with 4 Axes>"
      ]
     },
     "metadata": {},
     "output_type": "display_data"
    }
   ],
   "source": [
    "plot_metrics(updated_metrics)"
   ]
  }
 ],
 "metadata": {
  "kernelspec": {
   "display_name": "Python 3 (ipykernel)",
   "language": "python",
   "name": "python3"
  },
  "language_info": {
   "codemirror_mode": {
    "name": "ipython",
    "version": 3
   },
   "file_extension": ".py",
   "mimetype": "text/x-python",
   "name": "python",
   "nbconvert_exporter": "python",
   "pygments_lexer": "ipython3",
   "version": "3.9.13"
  }
 },
 "nbformat": 4,
 "nbformat_minor": 5
}
